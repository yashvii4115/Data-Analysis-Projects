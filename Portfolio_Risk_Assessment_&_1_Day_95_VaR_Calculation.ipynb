{
  "nbformat": 4,
  "nbformat_minor": 0,
  "metadata": {
    "colab": {
      "provenance": []
    },
    "kernelspec": {
      "name": "python3",
      "display_name": "Python 3"
    },
    "language_info": {
      "name": "python"
    }
  },
  "cells": [
    {
      "cell_type": "code",
      "execution_count": null,
      "metadata": {
        "id": "2W0uA42p24Rb"
      },
      "outputs": [],
      "source": [
        "!pip install --quiet yfinance"
      ]
    },
    {
      "cell_type": "markdown",
      "source": [
        "Portfolio Risk Assessment & 1-Day 95% VaR Calculation"
      ],
      "metadata": {
        "id": "1PF5CHjz25Tm"
      }
    },
    {
      "cell_type": "code",
      "source": [
        "import pandas as pd\n",
        "import numpy as np\n",
        "import matplotlib.pyplot as plt\n",
        "import seaborn as sns\n",
        "from pandas_datareader import data as pdr\n",
        "import datetime as dt\n",
        "from scipy import stats\n",
        "import yfinance as yf\n",
        "import time ### this is for fetching our data\n",
        "\n",
        "sns.set_style('whitegrid') ## provide grid structure\n",
        "%matplotlib inline"
      ],
      "metadata": {
        "id": "nwSo71em3U0s"
      },
      "execution_count": null,
      "outputs": []
    },
    {
      "cell_type": "code",
      "source": [
        "tickers = ['AAPL', 'MSFT', 'GOOGL', 'AMZN']\n",
        "weights = np.array([0.25,0.25,0.25,0.25])\n",
        "\n",
        "start = dt.datetime(2020,1,1)\n",
        "end = dt.datetime.today()\n",
        "\n",
        "price = pd.DataFrame(index=pd.date_range(start, end))\n",
        "print(price)"
      ],
      "metadata": {
        "colab": {
          "base_uri": "https://localhost:8080/"
        },
        "id": "8kd6h9uHD5J3",
        "outputId": "d13d9fe4-bed3-4a5d-ee42-397d86bedfcc"
      },
      "execution_count": null,
      "outputs": [
        {
          "output_type": "stream",
          "name": "stdout",
          "text": [
            "Empty DataFrame\n",
            "Columns: []\n",
            "Index: [2020-01-01 00:00:00, 2020-01-02 00:00:00, 2020-01-03 00:00:00, 2020-01-04 00:00:00, 2020-01-05 00:00:00, 2020-01-06 00:00:00, 2020-01-07 00:00:00, 2020-01-08 00:00:00, 2020-01-09 00:00:00, 2020-01-10 00:00:00, 2020-01-11 00:00:00, 2020-01-12 00:00:00, 2020-01-13 00:00:00, 2020-01-14 00:00:00, 2020-01-15 00:00:00, 2020-01-16 00:00:00, 2020-01-17 00:00:00, 2020-01-18 00:00:00, 2020-01-19 00:00:00, 2020-01-20 00:00:00, 2020-01-21 00:00:00, 2020-01-22 00:00:00, 2020-01-23 00:00:00, 2020-01-24 00:00:00, 2020-01-25 00:00:00, 2020-01-26 00:00:00, 2020-01-27 00:00:00, 2020-01-28 00:00:00, 2020-01-29 00:00:00, 2020-01-30 00:00:00, 2020-01-31 00:00:00, 2020-02-01 00:00:00, 2020-02-02 00:00:00, 2020-02-03 00:00:00, 2020-02-04 00:00:00, 2020-02-05 00:00:00, 2020-02-06 00:00:00, 2020-02-07 00:00:00, 2020-02-08 00:00:00, 2020-02-09 00:00:00, 2020-02-10 00:00:00, 2020-02-11 00:00:00, 2020-02-12 00:00:00, 2020-02-13 00:00:00, 2020-02-14 00:00:00, 2020-02-15 00:00:00, 2020-02-16 00:00:00, 2020-02-17 00:00:00, 2020-02-18 00:00:00, 2020-02-19 00:00:00, 2020-02-20 00:00:00, 2020-02-21 00:00:00, 2020-02-22 00:00:00, 2020-02-23 00:00:00, 2020-02-24 00:00:00, 2020-02-25 00:00:00, 2020-02-26 00:00:00, 2020-02-27 00:00:00, 2020-02-28 00:00:00, 2020-02-29 00:00:00, 2020-03-01 00:00:00, 2020-03-02 00:00:00, 2020-03-03 00:00:00, 2020-03-04 00:00:00, 2020-03-05 00:00:00, 2020-03-06 00:00:00, 2020-03-07 00:00:00, 2020-03-08 00:00:00, 2020-03-09 00:00:00, 2020-03-10 00:00:00, 2020-03-11 00:00:00, 2020-03-12 00:00:00, 2020-03-13 00:00:00, 2020-03-14 00:00:00, 2020-03-15 00:00:00, 2020-03-16 00:00:00, 2020-03-17 00:00:00, 2020-03-18 00:00:00, 2020-03-19 00:00:00, 2020-03-20 00:00:00, 2020-03-21 00:00:00, 2020-03-22 00:00:00, 2020-03-23 00:00:00, 2020-03-24 00:00:00, 2020-03-25 00:00:00, 2020-03-26 00:00:00, 2020-03-27 00:00:00, 2020-03-28 00:00:00, 2020-03-29 00:00:00, 2020-03-30 00:00:00, 2020-03-31 00:00:00, 2020-04-01 00:00:00, 2020-04-02 00:00:00, 2020-04-03 00:00:00, 2020-04-04 00:00:00, 2020-04-05 00:00:00, 2020-04-06 00:00:00, 2020-04-07 00:00:00, 2020-04-08 00:00:00, 2020-04-09 00:00:00, ...]\n",
            "\n",
            "[1970 rows x 0 columns]\n"
          ]
        }
      ]
    },
    {
      "cell_type": "code",
      "source": [
        "for ticker in tickers:\n",
        "  print(f\"Fetching {ticker}\", end=\"\")\n",
        "  try:\n",
        "    #fetching the data\n",
        "    df=yf.ticker(ticker).history(\n",
        "        start=start.strftime(\"%Y-%m-%d\"),\n",
        "        end=end.strftime(\"%Y-%m-%d\"),\n",
        "        auto_adjust=True,\n",
        "        )\n",
        "    series=df['close']\n",
        "    print(\"Y finance \",end=\"\")\n",
        "  except Exception as e:\n",
        "    print(f\"X yfinance ({e}); falling back to Stooq\")\n",
        "    df2=pdr.DataReader(ticker,'stooq',start,end)\n",
        "    series=df2['Close']\n",
        "  price[ticker]=series\n",
        "  time.sleep(1)\n",
        "prices=price.dropna(how=\"all\").ffill().bfill()\n",
        "print(prices.tail())"
      ],
      "metadata": {
        "colab": {
          "base_uri": "https://localhost:8080/"
        },
        "id": "JbmTSGA3EzTN",
        "outputId": "6f8013cc-2acc-4ceb-f335-f3df034736ee"
      },
      "execution_count": null,
      "outputs": [
        {
          "output_type": "stream",
          "name": "stdout",
          "text": [
            "Fetching AAPLX yfinance ('module' object is not callable); falling back to Stooq\n",
            "Fetching MSFTX yfinance ('module' object is not callable); falling back to Stooq\n",
            "Fetching GOOGLX yfinance ('module' object is not callable); falling back to Stooq\n",
            "Fetching AMZNX yfinance ('module' object is not callable); falling back to Stooq\n",
            "              AAPL    MSFT   GOOGL    AMZN\n",
            "2025-05-16  211.26  454.27  166.19  205.59\n",
            "2025-05-19  208.78  458.87  166.54  206.16\n",
            "2025-05-20  206.86  458.17  163.98  204.07\n",
            "2025-05-21  202.09  452.57  168.56  201.12\n",
            "2025-05-22  201.36  454.86  170.87  203.10\n"
          ]
        }
      ]
    },
    {
      "cell_type": "code",
      "source": [
        "# log-return = ln(P_t / P_{t-1})\n",
        "logr = np.log(prices / prices.shift(1)).dropna()\n",
        "logr.head()"
      ],
      "metadata": {
        "colab": {
          "base_uri": "https://localhost:8080/",
          "height": 206
        },
        "id": "S58-CL3vGu48",
        "outputId": "2c0c96c0-4aa6-48e9-d9a7-4bf287f7e806"
      },
      "execution_count": null,
      "outputs": [
        {
          "output_type": "execute_result",
          "data": {
            "text/plain": [
              "                AAPL      MSFT     GOOGL      AMZN\n",
              "2020-01-03 -0.009737 -0.012360 -0.005243 -0.012213\n",
              "2020-01-06  0.007879  0.002580  0.026304  0.014776\n",
              "2020-01-07 -0.004666 -0.009299 -0.001935  0.002089\n",
              "2020-01-08  0.015943  0.016008  0.007094 -0.007839\n",
              "2020-01-09  0.021054  0.012240  0.010441  0.004788"
            ],
            "text/html": [
              "\n",
              "  <div id=\"df-3096ab7f-646c-46b0-ac32-42d2a90650f1\" class=\"colab-df-container\">\n",
              "    <div>\n",
              "<style scoped>\n",
              "    .dataframe tbody tr th:only-of-type {\n",
              "        vertical-align: middle;\n",
              "    }\n",
              "\n",
              "    .dataframe tbody tr th {\n",
              "        vertical-align: top;\n",
              "    }\n",
              "\n",
              "    .dataframe thead th {\n",
              "        text-align: right;\n",
              "    }\n",
              "</style>\n",
              "<table border=\"1\" class=\"dataframe\">\n",
              "  <thead>\n",
              "    <tr style=\"text-align: right;\">\n",
              "      <th></th>\n",
              "      <th>AAPL</th>\n",
              "      <th>MSFT</th>\n",
              "      <th>GOOGL</th>\n",
              "      <th>AMZN</th>\n",
              "    </tr>\n",
              "  </thead>\n",
              "  <tbody>\n",
              "    <tr>\n",
              "      <th>2020-01-03</th>\n",
              "      <td>-0.009737</td>\n",
              "      <td>-0.012360</td>\n",
              "      <td>-0.005243</td>\n",
              "      <td>-0.012213</td>\n",
              "    </tr>\n",
              "    <tr>\n",
              "      <th>2020-01-06</th>\n",
              "      <td>0.007879</td>\n",
              "      <td>0.002580</td>\n",
              "      <td>0.026304</td>\n",
              "      <td>0.014776</td>\n",
              "    </tr>\n",
              "    <tr>\n",
              "      <th>2020-01-07</th>\n",
              "      <td>-0.004666</td>\n",
              "      <td>-0.009299</td>\n",
              "      <td>-0.001935</td>\n",
              "      <td>0.002089</td>\n",
              "    </tr>\n",
              "    <tr>\n",
              "      <th>2020-01-08</th>\n",
              "      <td>0.015943</td>\n",
              "      <td>0.016008</td>\n",
              "      <td>0.007094</td>\n",
              "      <td>-0.007839</td>\n",
              "    </tr>\n",
              "    <tr>\n",
              "      <th>2020-01-09</th>\n",
              "      <td>0.021054</td>\n",
              "      <td>0.012240</td>\n",
              "      <td>0.010441</td>\n",
              "      <td>0.004788</td>\n",
              "    </tr>\n",
              "  </tbody>\n",
              "</table>\n",
              "</div>\n",
              "    <div class=\"colab-df-buttons\">\n",
              "\n",
              "  <div class=\"colab-df-container\">\n",
              "    <button class=\"colab-df-convert\" onclick=\"convertToInteractive('df-3096ab7f-646c-46b0-ac32-42d2a90650f1')\"\n",
              "            title=\"Convert this dataframe to an interactive table.\"\n",
              "            style=\"display:none;\">\n",
              "\n",
              "  <svg xmlns=\"http://www.w3.org/2000/svg\" height=\"24px\" viewBox=\"0 -960 960 960\">\n",
              "    <path d=\"M120-120v-720h720v720H120Zm60-500h600v-160H180v160Zm220 220h160v-160H400v160Zm0 220h160v-160H400v160ZM180-400h160v-160H180v160Zm440 0h160v-160H620v160ZM180-180h160v-160H180v160Zm440 0h160v-160H620v160Z\"/>\n",
              "  </svg>\n",
              "    </button>\n",
              "\n",
              "  <style>\n",
              "    .colab-df-container {\n",
              "      display:flex;\n",
              "      gap: 12px;\n",
              "    }\n",
              "\n",
              "    .colab-df-convert {\n",
              "      background-color: #E8F0FE;\n",
              "      border: none;\n",
              "      border-radius: 50%;\n",
              "      cursor: pointer;\n",
              "      display: none;\n",
              "      fill: #1967D2;\n",
              "      height: 32px;\n",
              "      padding: 0 0 0 0;\n",
              "      width: 32px;\n",
              "    }\n",
              "\n",
              "    .colab-df-convert:hover {\n",
              "      background-color: #E2EBFA;\n",
              "      box-shadow: 0px 1px 2px rgba(60, 64, 67, 0.3), 0px 1px 3px 1px rgba(60, 64, 67, 0.15);\n",
              "      fill: #174EA6;\n",
              "    }\n",
              "\n",
              "    .colab-df-buttons div {\n",
              "      margin-bottom: 4px;\n",
              "    }\n",
              "\n",
              "    [theme=dark] .colab-df-convert {\n",
              "      background-color: #3B4455;\n",
              "      fill: #D2E3FC;\n",
              "    }\n",
              "\n",
              "    [theme=dark] .colab-df-convert:hover {\n",
              "      background-color: #434B5C;\n",
              "      box-shadow: 0px 1px 3px 1px rgba(0, 0, 0, 0.15);\n",
              "      filter: drop-shadow(0px 1px 2px rgba(0, 0, 0, 0.3));\n",
              "      fill: #FFFFFF;\n",
              "    }\n",
              "  </style>\n",
              "\n",
              "    <script>\n",
              "      const buttonEl =\n",
              "        document.querySelector('#df-3096ab7f-646c-46b0-ac32-42d2a90650f1 button.colab-df-convert');\n",
              "      buttonEl.style.display =\n",
              "        google.colab.kernel.accessAllowed ? 'block' : 'none';\n",
              "\n",
              "      async function convertToInteractive(key) {\n",
              "        const element = document.querySelector('#df-3096ab7f-646c-46b0-ac32-42d2a90650f1');\n",
              "        const dataTable =\n",
              "          await google.colab.kernel.invokeFunction('convertToInteractive',\n",
              "                                                    [key], {});\n",
              "        if (!dataTable) return;\n",
              "\n",
              "        const docLinkHtml = 'Like what you see? Visit the ' +\n",
              "          '<a target=\"_blank\" href=https://colab.research.google.com/notebooks/data_table.ipynb>data table notebook</a>'\n",
              "          + ' to learn more about interactive tables.';\n",
              "        element.innerHTML = '';\n",
              "        dataTable['output_type'] = 'display_data';\n",
              "        await google.colab.output.renderOutput(dataTable, element);\n",
              "        const docLink = document.createElement('div');\n",
              "        docLink.innerHTML = docLinkHtml;\n",
              "        element.appendChild(docLink);\n",
              "      }\n",
              "    </script>\n",
              "  </div>\n",
              "\n",
              "\n",
              "    <div id=\"df-68091a6c-a84a-4e7e-a3b8-f2d58274d3fb\">\n",
              "      <button class=\"colab-df-quickchart\" onclick=\"quickchart('df-68091a6c-a84a-4e7e-a3b8-f2d58274d3fb')\"\n",
              "                title=\"Suggest charts\"\n",
              "                style=\"display:none;\">\n",
              "\n",
              "<svg xmlns=\"http://www.w3.org/2000/svg\" height=\"24px\"viewBox=\"0 0 24 24\"\n",
              "     width=\"24px\">\n",
              "    <g>\n",
              "        <path d=\"M19 3H5c-1.1 0-2 .9-2 2v14c0 1.1.9 2 2 2h14c1.1 0 2-.9 2-2V5c0-1.1-.9-2-2-2zM9 17H7v-7h2v7zm4 0h-2V7h2v10zm4 0h-2v-4h2v4z\"/>\n",
              "    </g>\n",
              "</svg>\n",
              "      </button>\n",
              "\n",
              "<style>\n",
              "  .colab-df-quickchart {\n",
              "      --bg-color: #E8F0FE;\n",
              "      --fill-color: #1967D2;\n",
              "      --hover-bg-color: #E2EBFA;\n",
              "      --hover-fill-color: #174EA6;\n",
              "      --disabled-fill-color: #AAA;\n",
              "      --disabled-bg-color: #DDD;\n",
              "  }\n",
              "\n",
              "  [theme=dark] .colab-df-quickchart {\n",
              "      --bg-color: #3B4455;\n",
              "      --fill-color: #D2E3FC;\n",
              "      --hover-bg-color: #434B5C;\n",
              "      --hover-fill-color: #FFFFFF;\n",
              "      --disabled-bg-color: #3B4455;\n",
              "      --disabled-fill-color: #666;\n",
              "  }\n",
              "\n",
              "  .colab-df-quickchart {\n",
              "    background-color: var(--bg-color);\n",
              "    border: none;\n",
              "    border-radius: 50%;\n",
              "    cursor: pointer;\n",
              "    display: none;\n",
              "    fill: var(--fill-color);\n",
              "    height: 32px;\n",
              "    padding: 0;\n",
              "    width: 32px;\n",
              "  }\n",
              "\n",
              "  .colab-df-quickchart:hover {\n",
              "    background-color: var(--hover-bg-color);\n",
              "    box-shadow: 0 1px 2px rgba(60, 64, 67, 0.3), 0 1px 3px 1px rgba(60, 64, 67, 0.15);\n",
              "    fill: var(--button-hover-fill-color);\n",
              "  }\n",
              "\n",
              "  .colab-df-quickchart-complete:disabled,\n",
              "  .colab-df-quickchart-complete:disabled:hover {\n",
              "    background-color: var(--disabled-bg-color);\n",
              "    fill: var(--disabled-fill-color);\n",
              "    box-shadow: none;\n",
              "  }\n",
              "\n",
              "  .colab-df-spinner {\n",
              "    border: 2px solid var(--fill-color);\n",
              "    border-color: transparent;\n",
              "    border-bottom-color: var(--fill-color);\n",
              "    animation:\n",
              "      spin 1s steps(1) infinite;\n",
              "  }\n",
              "\n",
              "  @keyframes spin {\n",
              "    0% {\n",
              "      border-color: transparent;\n",
              "      border-bottom-color: var(--fill-color);\n",
              "      border-left-color: var(--fill-color);\n",
              "    }\n",
              "    20% {\n",
              "      border-color: transparent;\n",
              "      border-left-color: var(--fill-color);\n",
              "      border-top-color: var(--fill-color);\n",
              "    }\n",
              "    30% {\n",
              "      border-color: transparent;\n",
              "      border-left-color: var(--fill-color);\n",
              "      border-top-color: var(--fill-color);\n",
              "      border-right-color: var(--fill-color);\n",
              "    }\n",
              "    40% {\n",
              "      border-color: transparent;\n",
              "      border-right-color: var(--fill-color);\n",
              "      border-top-color: var(--fill-color);\n",
              "    }\n",
              "    60% {\n",
              "      border-color: transparent;\n",
              "      border-right-color: var(--fill-color);\n",
              "    }\n",
              "    80% {\n",
              "      border-color: transparent;\n",
              "      border-right-color: var(--fill-color);\n",
              "      border-bottom-color: var(--fill-color);\n",
              "    }\n",
              "    90% {\n",
              "      border-color: transparent;\n",
              "      border-bottom-color: var(--fill-color);\n",
              "    }\n",
              "  }\n",
              "</style>\n",
              "\n",
              "      <script>\n",
              "        async function quickchart(key) {\n",
              "          const quickchartButtonEl =\n",
              "            document.querySelector('#' + key + ' button');\n",
              "          quickchartButtonEl.disabled = true;  // To prevent multiple clicks.\n",
              "          quickchartButtonEl.classList.add('colab-df-spinner');\n",
              "          try {\n",
              "            const charts = await google.colab.kernel.invokeFunction(\n",
              "                'suggestCharts', [key], {});\n",
              "          } catch (error) {\n",
              "            console.error('Error during call to suggestCharts:', error);\n",
              "          }\n",
              "          quickchartButtonEl.classList.remove('colab-df-spinner');\n",
              "          quickchartButtonEl.classList.add('colab-df-quickchart-complete');\n",
              "        }\n",
              "        (() => {\n",
              "          let quickchartButtonEl =\n",
              "            document.querySelector('#df-68091a6c-a84a-4e7e-a3b8-f2d58274d3fb button');\n",
              "          quickchartButtonEl.style.display =\n",
              "            google.colab.kernel.accessAllowed ? 'block' : 'none';\n",
              "        })();\n",
              "      </script>\n",
              "    </div>\n",
              "\n",
              "    </div>\n",
              "  </div>\n"
            ],
            "application/vnd.google.colaboratory.intrinsic+json": {
              "type": "dataframe",
              "variable_name": "logr",
              "summary": "{\n  \"name\": \"logr\",\n  \"rows\": 1354,\n  \"fields\": [\n    {\n      \"column\": \"AAPL\",\n      \"properties\": {\n        \"dtype\": \"number\",\n        \"std\": 0.02061057344880196,\n        \"min\": -0.1376927064460318,\n        \"max\": 0.1426174108719208,\n        \"num_unique_values\": 1351,\n        \"samples\": [\n          -0.0021044452719372842,\n          0.01578306456453109,\n          0.01847219905302857\n        ],\n        \"semantic_type\": \"\",\n        \"description\": \"\"\n      }\n    },\n    {\n      \"column\": \"MSFT\",\n      \"properties\": {\n        \"dtype\": \"number\",\n        \"std\": 0.01929836060628136,\n        \"min\": -0.159548979767852,\n        \"max\": 0.13297171499172128,\n        \"num_unique_values\": 1353,\n        \"samples\": [\n          -0.159548979767852,\n          0.02054967599850133,\n          -0.021762195361281624\n        ],\n        \"semantic_type\": \"\",\n        \"description\": \"\"\n      }\n    },\n    {\n      \"column\": \"GOOGL\",\n      \"properties\": {\n        \"dtype\": \"number\",\n        \"std\": 0.02075908012869487,\n        \"min\": -0.12368486567039876,\n        \"max\": 0.09734517980694847,\n        \"num_unique_values\": 1353,\n        \"samples\": [\n          -0.12368486567039876,\n          -0.0248910627937159,\n          -0.00991005199684774\n        ],\n        \"semantic_type\": \"\",\n        \"description\": \"\"\n      }\n    },\n    {\n      \"column\": \"AMZN\",\n      \"properties\": {\n        \"dtype\": \"number\",\n        \"std\": 0.02289004792318913,\n        \"min\": -0.15139046973548317,\n        \"max\": 0.12694854705521322,\n        \"num_unique_values\": 1352,\n        \"samples\": [\n          -0.05519297140259527,\n          0.0018476975033634034,\n          -0.012168897821162254\n        ],\n        \"semantic_type\": \"\",\n        \"description\": \"\"\n      }\n    }\n  ]\n}"
            }
          },
          "metadata": {},
          "execution_count": 5
        }
      ]
    },
    {
      "cell_type": "code",
      "source": [
        "# Plot one example series for visual Check\n",
        "#You'll see a bell-shaped histogram.\n",
        "logr['AAPL'].hist(bins=50, alpha=0.7)\n",
        "plt.title('AAPL Daily Log-Return Distribution')\n",
        "plt.show()"
      ],
      "metadata": {
        "colab": {
          "base_uri": "https://localhost:8080/",
          "height": 452
        },
        "id": "HTCAaK-eIVtB",
        "outputId": "c3ef8c56-b029-4dd1-9212-a28bbbaaa829"
      },
      "execution_count": null,
      "outputs": [
        {
          "output_type": "display_data",
          "data": {
            "text/plain": [
              "<Figure size 640x480 with 1 Axes>"
            ],
            "image/png": "[encoded data removed]"
          },
          "metadata": {}
        }
      ]
    },
    {
      "cell_type": "code",
      "source": [
        "summary= pd.DataFrame({\n",
        "    'Mean':logr.mean(),\n",
        "    'Variance': logr.var(),\n",
        "    'Skewness':logr.skew(),\n",
        "    'Kurtosis':logr.kurtosis()\n",
        "    })\n",
        "summary"
      ],
      "metadata": {
        "colab": {
          "base_uri": "https://localhost:8080/",
          "height": 175
        },
        "id": "k8cUTp35IYM1",
        "outputId": "9710fff9-137b-4f4b-e75b-4196f127202e"
      },
      "execution_count": null,
      "outputs": [
        {
          "output_type": "execute_result",
          "data": {
            "text/plain": [
              "           Mean  Variance  Skewness  Kurtosis\n",
              "AAPL   0.000752  0.000425  0.020390  6.226807\n",
              "MSFT   0.000802  0.000372 -0.164616  7.430717\n",
              "GOOGL  0.000678  0.000431 -0.227661  3.636135\n",
              "AMZN   0.000562  0.000524 -0.069501  4.160446"
            ],
            "text/html": [
              "\n",
              "  <div id=\"df-bfbedf5c-d619-4f57-897a-5d126703d83b\" class=\"colab-df-container\">\n",
              "    <div>\n",
              "<style scoped>\n",
              "    .dataframe tbody tr th:only-of-type {\n",
              "        vertical-align: middle;\n",
              "    }\n",
              "\n",
              "    .dataframe tbody tr th {\n",
              "        vertical-align: top;\n",
              "    }\n",
              "\n",
              "    .dataframe thead th {\n",
              "        text-align: right;\n",
              "    }\n",
              "</style>\n",
              "<table border=\"1\" class=\"dataframe\">\n",
              "  <thead>\n",
              "    <tr style=\"text-align: right;\">\n",
              "      <th></th>\n",
              "      <th>Mean</th>\n",
              "      <th>Variance</th>\n",
              "      <th>Skewness</th>\n",
              "      <th>Kurtosis</th>\n",
              "    </tr>\n",
              "  </thead>\n",
              "  <tbody>\n",
              "    <tr>\n",
              "      <th>AAPL</th>\n",
              "      <td>0.000752</td>\n",
              "      <td>0.000425</td>\n",
              "      <td>0.020390</td>\n",
              "      <td>6.226807</td>\n",
              "    </tr>\n",
              "    <tr>\n",
              "      <th>MSFT</th>\n",
              "      <td>0.000802</td>\n",
              "      <td>0.000372</td>\n",
              "      <td>-0.164616</td>\n",
              "      <td>7.430717</td>\n",
              "    </tr>\n",
              "    <tr>\n",
              "      <th>GOOGL</th>\n",
              "      <td>0.000678</td>\n",
              "      <td>0.000431</td>\n",
              "      <td>-0.227661</td>\n",
              "      <td>3.636135</td>\n",
              "    </tr>\n",
              "    <tr>\n",
              "      <th>AMZN</th>\n",
              "      <td>0.000562</td>\n",
              "      <td>0.000524</td>\n",
              "      <td>-0.069501</td>\n",
              "      <td>4.160446</td>\n",
              "    </tr>\n",
              "  </tbody>\n",
              "</table>\n",
              "</div>\n",
              "    <div class=\"colab-df-buttons\">\n",
              "\n",
              "  <div class=\"colab-df-container\">\n",
              "    <button class=\"colab-df-convert\" onclick=\"convertToInteractive('df-bfbedf5c-d619-4f57-897a-5d126703d83b')\"\n",
              "            title=\"Convert this dataframe to an interactive table.\"\n",
              "            style=\"display:none;\">\n",
              "\n",
              "  <svg xmlns=\"http://www.w3.org/2000/svg\" height=\"24px\" viewBox=\"0 -960 960 960\">\n",
              "    <path d=\"M120-120v-720h720v720H120Zm60-500h600v-160H180v160Zm220 220h160v-160H400v160Zm0 220h160v-160H400v160ZM180-400h160v-160H180v160Zm440 0h160v-160H620v160ZM180-180h160v-160H180v160Zm440 0h160v-160H620v160Z\"/>\n",
              "  </svg>\n",
              "    </button>\n",
              "\n",
              "  <style>\n",
              "    .colab-df-container {\n",
              "      display:flex;\n",
              "      gap: 12px;\n",
              "    }\n",
              "\n",
              "    .colab-df-convert {\n",
              "      background-color: #E8F0FE;\n",
              "      border: none;\n",
              "      border-radius: 50%;\n",
              "      cursor: pointer;\n",
              "      display: none;\n",
              "      fill: #1967D2;\n",
              "      height: 32px;\n",
              "      padding: 0 0 0 0;\n",
              "      width: 32px;\n",
              "    }\n",
              "\n",
              "    .colab-df-convert:hover {\n",
              "      background-color: #E2EBFA;\n",
              "      box-shadow: 0px 1px 2px rgba(60, 64, 67, 0.3), 0px 1px 3px 1px rgba(60, 64, 67, 0.15);\n",
              "      fill: #174EA6;\n",
              "    }\n",
              "\n",
              "    .colab-df-buttons div {\n",
              "      margin-bottom: 4px;\n",
              "    }\n",
              "\n",
              "    [theme=dark] .colab-df-convert {\n",
              "      background-color: #3B4455;\n",
              "      fill: #D2E3FC;\n",
              "    }\n",
              "\n",
              "    [theme=dark] .colab-df-convert:hover {\n",
              "      background-color: #434B5C;\n",
              "      box-shadow: 0px 1px 3px 1px rgba(0, 0, 0, 0.15);\n",
              "      filter: drop-shadow(0px 1px 2px rgba(0, 0, 0, 0.3));\n",
              "      fill: #FFFFFF;\n",
              "    }\n",
              "  </style>\n",
              "\n",
              "    <script>\n",
              "      const buttonEl =\n",
              "        document.querySelector('#df-bfbedf5c-d619-4f57-897a-5d126703d83b button.colab-df-convert');\n",
              "      buttonEl.style.display =\n",
              "        google.colab.kernel.accessAllowed ? 'block' : 'none';\n",
              "\n",
              "      async function convertToInteractive(key) {\n",
              "        const element = document.querySelector('#df-bfbedf5c-d619-4f57-897a-5d126703d83b');\n",
              "        const dataTable =\n",
              "          await google.colab.kernel.invokeFunction('convertToInteractive',\n",
              "                                                    [key], {});\n",
              "        if (!dataTable) return;\n",
              "\n",
              "        const docLinkHtml = 'Like what you see? Visit the ' +\n",
              "          '<a target=\"_blank\" href=https://colab.research.google.com/notebooks/data_table.ipynb>data table notebook</a>'\n",
              "          + ' to learn more about interactive tables.';\n",
              "        element.innerHTML = '';\n",
              "        dataTable['output_type'] = 'display_data';\n",
              "        await google.colab.output.renderOutput(dataTable, element);\n",
              "        const docLink = document.createElement('div');\n",
              "        docLink.innerHTML = docLinkHtml;\n",
              "        element.appendChild(docLink);\n",
              "      }\n",
              "    </script>\n",
              "  </div>\n",
              "\n",
              "\n",
              "    <div id=\"df-eff83cd2-2e00-4d8b-946a-1ed7632573e9\">\n",
              "      <button class=\"colab-df-quickchart\" onclick=\"quickchart('df-eff83cd2-2e00-4d8b-946a-1ed7632573e9')\"\n",
              "                title=\"Suggest charts\"\n",
              "                style=\"display:none;\">\n",
              "\n",
              "<svg xmlns=\"http://www.w3.org/2000/svg\" height=\"24px\"viewBox=\"0 0 24 24\"\n",
              "     width=\"24px\">\n",
              "    <g>\n",
              "        <path d=\"M19 3H5c-1.1 0-2 .9-2 2v14c0 1.1.9 2 2 2h14c1.1 0 2-.9 2-2V5c0-1.1-.9-2-2-2zM9 17H7v-7h2v7zm4 0h-2V7h2v10zm4 0h-2v-4h2v4z\"/>\n",
              "    </g>\n",
              "</svg>\n",
              "      </button>\n",
              "\n",
              "<style>\n",
              "  .colab-df-quickchart {\n",
              "      --bg-color: #E8F0FE;\n",
              "      --fill-color: #1967D2;\n",
              "      --hover-bg-color: #E2EBFA;\n",
              "      --hover-fill-color: #174EA6;\n",
              "      --disabled-fill-color: #AAA;\n",
              "      --disabled-bg-color: #DDD;\n",
              "  }\n",
              "\n",
              "  [theme=dark] .colab-df-quickchart {\n",
              "      --bg-color: #3B4455;\n",
              "      --fill-color: #D2E3FC;\n",
              "      --hover-bg-color: #434B5C;\n",
              "      --hover-fill-color: #FFFFFF;\n",
              "      --disabled-bg-color: #3B4455;\n",
              "      --disabled-fill-color: #666;\n",
              "  }\n",
              "\n",
              "  .colab-df-quickchart {\n",
              "    background-color: var(--bg-color);\n",
              "    border: none;\n",
              "    border-radius: 50%;\n",
              "    cursor: pointer;\n",
              "    display: none;\n",
              "    fill: var(--fill-color);\n",
              "    height: 32px;\n",
              "    padding: 0;\n",
              "    width: 32px;\n",
              "  }\n",
              "\n",
              "  .colab-df-quickchart:hover {\n",
              "    background-color: var(--hover-bg-color);\n",
              "    box-shadow: 0 1px 2px rgba(60, 64, 67, 0.3), 0 1px 3px 1px rgba(60, 64, 67, 0.15);\n",
              "    fill: var(--button-hover-fill-color);\n",
              "  }\n",
              "\n",
              "  .colab-df-quickchart-complete:disabled,\n",
              "  .colab-df-quickchart-complete:disabled:hover {\n",
              "    background-color: var(--disabled-bg-color);\n",
              "    fill: var(--disabled-fill-color);\n",
              "    box-shadow: none;\n",
              "  }\n",
              "\n",
              "  .colab-df-spinner {\n",
              "    border: 2px solid var(--fill-color);\n",
              "    border-color: transparent;\n",
              "    border-bottom-color: var(--fill-color);\n",
              "    animation:\n",
              "      spin 1s steps(1) infinite;\n",
              "  }\n",
              "\n",
              "  @keyframes spin {\n",
              "    0% {\n",
              "      border-color: transparent;\n",
              "      border-bottom-color: var(--fill-color);\n",
              "      border-left-color: var(--fill-color);\n",
              "    }\n",
              "    20% {\n",
              "      border-color: transparent;\n",
              "      border-left-color: var(--fill-color);\n",
              "      border-top-color: var(--fill-color);\n",
              "    }\n",
              "    30% {\n",
              "      border-color: transparent;\n",
              "      border-left-color: var(--fill-color);\n",
              "      border-top-color: var(--fill-color);\n",
              "      border-right-color: var(--fill-color);\n",
              "    }\n",
              "    40% {\n",
              "      border-color: transparent;\n",
              "      border-right-color: var(--fill-color);\n",
              "      border-top-color: var(--fill-color);\n",
              "    }\n",
              "    60% {\n",
              "      border-color: transparent;\n",
              "      border-right-color: var(--fill-color);\n",
              "    }\n",
              "    80% {\n",
              "      border-color: transparent;\n",
              "      border-right-color: var(--fill-color);\n",
              "      border-bottom-color: var(--fill-color);\n",
              "    }\n",
              "    90% {\n",
              "      border-color: transparent;\n",
              "      border-bottom-color: var(--fill-color);\n",
              "    }\n",
              "  }\n",
              "</style>\n",
              "\n",
              "      <script>\n",
              "        async function quickchart(key) {\n",
              "          const quickchartButtonEl =\n",
              "            document.querySelector('#' + key + ' button');\n",
              "          quickchartButtonEl.disabled = true;  // To prevent multiple clicks.\n",
              "          quickchartButtonEl.classList.add('colab-df-spinner');\n",
              "          try {\n",
              "            const charts = await google.colab.kernel.invokeFunction(\n",
              "                'suggestCharts', [key], {});\n",
              "          } catch (error) {\n",
              "            console.error('Error during call to suggestCharts:', error);\n",
              "          }\n",
              "          quickchartButtonEl.classList.remove('colab-df-spinner');\n",
              "          quickchartButtonEl.classList.add('colab-df-quickchart-complete');\n",
              "        }\n",
              "        (() => {\n",
              "          let quickchartButtonEl =\n",
              "            document.querySelector('#df-eff83cd2-2e00-4d8b-946a-1ed7632573e9 button');\n",
              "          quickchartButtonEl.style.display =\n",
              "            google.colab.kernel.accessAllowed ? 'block' : 'none';\n",
              "        })();\n",
              "      </script>\n",
              "    </div>\n",
              "\n",
              "  <div id=\"id_ffce385c-d235-4572-bd69-f0c63be35727\">\n",
              "    <style>\n",
              "      .colab-df-generate {\n",
              "        background-color: #E8F0FE;\n",
              "        border: none;\n",
              "        border-radius: 50%;\n",
              "        cursor: pointer;\n",
              "        display: none;\n",
              "        fill: #1967D2;\n",
              "        height: 32px;\n",
              "        padding: 0 0 0 0;\n",
              "        width: 32px;\n",
              "      }\n",
              "\n",
              "      .colab-df-generate:hover {\n",
              "        background-color: #E2EBFA;\n",
              "        box-shadow: 0px 1px 2px rgba(60, 64, 67, 0.3), 0px 1px 3px 1px rgba(60, 64, 67, 0.15);\n",
              "        fill: #174EA6;\n",
              "      }\n",
              "\n",
              "      [theme=dark] .colab-df-generate {\n",
              "        background-color: #3B4455;\n",
              "        fill: #D2E3FC;\n",
              "      }\n",
              "\n",
              "      [theme=dark] .colab-df-generate:hover {\n",
              "        background-color: #434B5C;\n",
              "        box-shadow: 0px 1px 3px 1px rgba(0, 0, 0, 0.15);\n",
              "        filter: drop-shadow(0px 1px 2px rgba(0, 0, 0, 0.3));\n",
              "        fill: #FFFFFF;\n",
              "      }\n",
              "    </style>\n",
              "    <button class=\"colab-df-generate\" onclick=\"generateWithVariable('summary')\"\n",
              "            title=\"Generate code using this dataframe.\"\n",
              "            style=\"display:none;\">\n",
              "\n",
              "  <svg xmlns=\"http://www.w3.org/2000/svg\" height=\"24px\"viewBox=\"0 0 24 24\"\n",
              "       width=\"24px\">\n",
              "    <path d=\"M7,19H8.4L18.45,9,17,7.55,7,17.6ZM5,21V16.75L18.45,3.32a2,2,0,0,1,2.83,0l1.4,1.43a1.91,1.91,0,0,1,.58,1.4,1.91,1.91,0,0,1-.58,1.4L9.25,21ZM18.45,9,17,7.55Zm-12,3A5.31,5.31,0,0,0,4.9,8.1,5.31,5.31,0,0,0,1,6.5,5.31,5.31,0,0,0,4.9,4.9,5.31,5.31,0,0,0,6.5,1,5.31,5.31,0,0,0,8.1,4.9,5.31,5.31,0,0,0,12,6.5,5.46,5.46,0,0,0,6.5,12Z\"/>\n",
              "  </svg>\n",
              "    </button>\n",
              "    <script>\n",
              "      (() => {\n",
              "      const buttonEl =\n",
              "        document.querySelector('#id_ffce385c-d235-4572-bd69-f0c63be35727 button.colab-df-generate');\n",
              "      buttonEl.style.display =\n",
              "        google.colab.kernel.accessAllowed ? 'block' : 'none';\n",
              "\n",
              "      buttonEl.onclick = () => {\n",
              "        google.colab.notebook.generateWithVariable('summary');\n",
              "      }\n",
              "      })();\n",
              "    </script>\n",
              "  </div>\n",
              "\n",
              "    </div>\n",
              "  </div>\n"
            ],
            "application/vnd.google.colaboratory.intrinsic+json": {
              "type": "dataframe",
              "variable_name": "summary",
              "summary": "{\n  \"name\": \"summary\",\n  \"rows\": 4,\n  \"fields\": [\n    {\n      \"column\": \"Mean\",\n      \"properties\": {\n        \"dtype\": \"number\",\n        \"std\": 0.00010423545712144288,\n        \"min\": 0.0005619420194094823,\n        \"max\": 0.0008017379813496317,\n        \"num_unique_values\": 4,\n        \"samples\": [\n          0.0008017379813496317,\n          0.0005619420194094823,\n          0.0007522389459077052\n        ],\n        \"semantic_type\": \"\",\n        \"description\": \"\"\n      }\n    },\n    {\n      \"column\": \"Variance\",\n      \"properties\": {\n        \"dtype\": \"number\",\n        \"std\": 6.301374597932089e-05,\n        \"min\": 0.0003724267220900723,\n        \"max\": 0.000523954293925895,\n        \"num_unique_values\": 4,\n        \"samples\": [\n          0.0003724267220900723,\n          0.000523954293925895,\n          0.0004247957378884604\n        ],\n        \"semantic_type\": \"\",\n        \"description\": \"\"\n      }\n    },\n    {\n      \"column\": \"Skewness\",\n      \"properties\": {\n        \"dtype\": \"number\",\n        \"std\": 0.10873234900458649,\n        \"min\": -0.22766059788555204,\n        \"max\": 0.020390006583550602,\n        \"num_unique_values\": 4,\n        \"samples\": [\n          -0.16461615004600788,\n          -0.06950112659553616,\n          0.020390006583550602\n        ],\n        \"semantic_type\": \"\",\n        \"description\": \"\"\n      }\n    },\n    {\n      \"column\": \"Kurtosis\",\n      \"properties\": {\n        \"dtype\": \"number\",\n        \"std\": 1.774806359866894,\n        \"min\": 3.6361353737883673,\n        \"max\": 7.43071714926074,\n        \"num_unique_values\": 4,\n        \"samples\": [\n          7.43071714926074,\n          4.16044633487685,\n          6.226807264324938\n        ],\n        \"semantic_type\": \"\",\n        \"description\": \"\"\n      }\n    }\n  ]\n}"
            }
          },
          "metadata": {},
          "execution_count": 7
        }
      ]
    },
    {
      "cell_type": "code",
      "source": [
        "mu_norm = logr.stack().mean()\n",
        "sigma_norm = logr.stack().std(ddof=1)\n",
        "\n",
        "# 95% CI for mean under Normal: u ± z * σ / √N\n",
        "N = logr.size\n",
        "z95 = stats.norm.ppf(0.975)\n",
        "ci_mu_norm = (mu_norm - z95 * sigma_norm / np.sqrt(N),\n",
        "              mu_norm + z95 * sigma_norm / np.sqrt(N))\n",
        "\n",
        "# 95% CI for σ via Chi-square:\n",
        "df = N - 1\n",
        "chi2_low, chi2_high = stats.chi2.ppf([0.025, 0.975], df)\n",
        "ci_sigma_norm = (sigma_norm * np.sqrt(df / chi2_high),\n",
        "                 sigma_norm * np.sqrt(df / chi2_low))\n",
        "\n",
        "print(\"Normal fit:\")\n",
        "print(f\"μ = {mu_norm:.5f}, 95% CI {ci_mu_norm}\")\n",
        "print(f\"σ = {sigma_norm:.5f}, 95% CI {ci_sigma_norm}\")\n"
      ],
      "metadata": {
        "colab": {
          "base_uri": "https://localhost:8080/"
        },
        "id": "Ac3-kAKsIwC-",
        "outputId": "ed37e1a4-4529-465e-8c23-e41ff0ab2a7b"
      },
      "execution_count": null,
      "outputs": [
        {
          "output_type": "stream",
          "name": "stdout",
          "text": [
            "Normal fit:\n",
            "μ = 0.00070, 95% CI (np.float64(0.00014135581013294892), np.float64(0.0012558400131748955))\n",
            "σ = 0.02092, 95% CI (np.float64(0.02053681862658147), np.float64(0.02132521057520147))\n"
          ]
        }
      ]
    },
    {
      "cell_type": "code",
      "source": [
        "#4.2 Fit Student's t\n",
        "#Fit t-distribution to the pooled returns\n",
        "#returns_flat = all asset returns concatenated\n",
        "returns_flat = logr.stack().values\n",
        "df_t, mu_t, sigma_t = stats.t.fit(returns_flat)\n",
        "print(df_t)\n",
        "print(mu_t)"
      ],
      "metadata": {
        "colab": {
          "base_uri": "https://localhost:8080/"
        },
        "id": "9jSm174iT1L9",
        "outputId": "4f895fbf-2231-4c22-8689-d2d384696b7e"
      },
      "execution_count": null,
      "outputs": [
        {
          "output_type": "stream",
          "name": "stdout",
          "text": [
            "3.6546646101861917\n",
            "0.0010493773461387728\n"
          ]
        }
      ]
    },
    {
      "cell_type": "code",
      "source": [
        "# 95% CI for p and gof a t-fit is more complex; we can bootstrap them:\n",
        "B = 1000\n",
        "estimates = np.array([stats.t.fit(np.random.choice(returns_flat, size=N, replace=True))\n",
        "                      for _ in range (B)])\n",
        "ci_mu_t = np.percentile(estimates[:,1], [2.5, 97.5])\n",
        "ci_sigma_t = np.percentile(estimates[:,2], [2.5, 97.5])\n",
        "\n",
        "print(\"\\nstudent's t fit:\")\n",
        "print(f\" df = {df_t: 1f}, μ = {mu_t:.5f}, σ = {sigma_t:.5f}\")\n",
        "print(f\" 95% CI for μ (bootstrap): {ci_mu_t}\")\n",
        "print(f\" 95% CI for σ (bootstrap): {ci_sigma_t}\")"
      ],
      "metadata": {
        "colab": {
          "base_uri": "https://localhost:8080/"
        },
        "id": "roMIcmMbWlWC",
        "outputId": "a86a4343-8c2a-4743-b502-68c9fa810e7f"
      },
      "execution_count": null,
      "outputs": [
        {
          "output_type": "stream",
          "name": "stdout",
          "text": [
            "\n",
            "student's t fit:\n",
            " df =  3.654665, μ = 0.00105, σ = 0.01447\n",
            " 95% CI for μ (bootstrap): [0.00056407 0.00147143]\n",
            " 95% CI for σ (bootstrap): [0.01397033 0.01494488]\n"
          ]
        }
      ]
    },
    {
      "cell_type": "markdown",
      "source": [
        "1-Day 95% VaR"
      ],
      "metadata": {
        "id": "Gvrq_vY-8wOV"
      }
    },
    {
      "cell_type": "code",
      "source": [
        "portr = logr.dot(weights)\n",
        "portr"
      ],
      "metadata": {
        "id": "ar08Sn9laCLC",
        "colab": {
          "base_uri": "https://localhost:8080/",
          "height": 458
        },
        "outputId": "40d542d5-ff74-4f68-edd3-cf4fb1a9c56d"
      },
      "execution_count": null,
      "outputs": [
        {
          "output_type": "execute_result",
          "data": {
            "text/plain": [
              "2020-01-03   -0.009888\n",
              "2020-01-06    0.012885\n",
              "2020-01-07   -0.003453\n",
              "2020-01-08    0.007801\n",
              "2020-01-09    0.012131\n",
              "                ...   \n",
              "2025-05-16    0.004292\n",
              "2025-05-19    0.000785\n",
              "2025-05-20   -0.009112\n",
              "2025-05-21   -0.005660\n",
              "2025-05-22    0.006209\n",
              "Length: 1354, dtype: float64"
            ],
            "text/html": [
              "<div>\n",
              "<style scoped>\n",
              "    .dataframe tbody tr th:only-of-type {\n",
              "        vertical-align: middle;\n",
              "    }\n",
              "\n",
              "    .dataframe tbody tr th {\n",
              "        vertical-align: top;\n",
              "    }\n",
              "\n",
              "    .dataframe thead th {\n",
              "        text-align: right;\n",
              "    }\n",
              "</style>\n",
              "<table border=\"1\" class=\"dataframe\">\n",
              "  <thead>\n",
              "    <tr style=\"text-align: right;\">\n",
              "      <th></th>\n",
              "      <th>0</th>\n",
              "    </tr>\n",
              "  </thead>\n",
              "  <tbody>\n",
              "    <tr>\n",
              "      <th>2020-01-03</th>\n",
              "      <td>-0.009888</td>\n",
              "    </tr>\n",
              "    <tr>\n",
              "      <th>2020-01-06</th>\n",
              "      <td>0.012885</td>\n",
              "    </tr>\n",
              "    <tr>\n",
              "      <th>2020-01-07</th>\n",
              "      <td>-0.003453</td>\n",
              "    </tr>\n",
              "    <tr>\n",
              "      <th>2020-01-08</th>\n",
              "      <td>0.007801</td>\n",
              "    </tr>\n",
              "    <tr>\n",
              "      <th>2020-01-09</th>\n",
              "      <td>0.012131</td>\n",
              "    </tr>\n",
              "    <tr>\n",
              "      <th>...</th>\n",
              "      <td>...</td>\n",
              "    </tr>\n",
              "    <tr>\n",
              "      <th>2025-05-16</th>\n",
              "      <td>0.004292</td>\n",
              "    </tr>\n",
              "    <tr>\n",
              "      <th>2025-05-19</th>\n",
              "      <td>0.000785</td>\n",
              "    </tr>\n",
              "    <tr>\n",
              "      <th>2025-05-20</th>\n",
              "      <td>-0.009112</td>\n",
              "    </tr>\n",
              "    <tr>\n",
              "      <th>2025-05-21</th>\n",
              "      <td>-0.005660</td>\n",
              "    </tr>\n",
              "    <tr>\n",
              "      <th>2025-05-22</th>\n",
              "      <td>0.006209</td>\n",
              "    </tr>\n",
              "  </tbody>\n",
              "</table>\n",
              "<p>1354 rows × 1 columns</p>\n",
              "</div><br><label><b>dtype:</b> float64</label>"
            ]
          },
          "metadata": {},
          "execution_count": 11
        }
      ]
    },
    {
      "cell_type": "code",
      "source": [
        "μ_p = portr.mean()\n",
        "σ_p = portr.std(ddof=1)\n",
        "print(μ_p)\n",
        "print(σ_p)"
      ],
      "metadata": {
        "colab": {
          "base_uri": "https://localhost:8080/"
        },
        "id": "7xJCzXBmArVh",
        "outputId": "67deac4a-7528-4976-ccb1-9f2580a61a0f"
      },
      "execution_count": null,
      "outputs": [
        {
          "output_type": "stream",
          "name": "stdout",
          "text": [
            "0.0006985979116539223\n",
            "0.01816307307599588\n"
          ]
        }
      ]
    },
    {
      "cell_type": "code",
      "source": [
        "z05 = stats.norm.ppf(0.05)\n",
        "print(z05)"
      ],
      "metadata": {
        "colab": {
          "base_uri": "https://localhost:8080/"
        },
        "id": "r8RDY8OeBsCn",
        "outputId": "44a738bd-2ad1-4448-aa64-fe7877c5a197"
      },
      "execution_count": null,
      "outputs": [
        {
          "output_type": "stream",
          "name": "stdout",
          "text": [
            "-1.6448536269514729\n"
          ]
        }
      ]
    },
    {
      "cell_type": "code",
      "source": [
        "VaR_norm = -(μ_p + z05 * σ_p)\n",
        "print(VaR_norm)"
      ],
      "metadata": {
        "colab": {
          "base_uri": "https://localhost:8080/"
        },
        "id": "5crDjx7wB0Gf",
        "outputId": "49264e19-f6e9-469a-a67c-1bb7d8a4d20c"
      },
      "execution_count": null,
      "outputs": [
        {
          "output_type": "stream",
          "name": "stdout",
          "text": [
            "0.02917699871398255\n"
          ]
        }
      ]
    },
    {
      "cell_type": "code",
      "source": [
        "# using student-t distribution\n",
        "t05= stats.t.ppf(0.05, df_t)\n",
        "print(t05)"
      ],
      "metadata": {
        "colab": {
          "base_uri": "https://localhost:8080/"
        },
        "id": "NNx3zp0lB9JS",
        "outputId": "b0512583-0734-4670-dae7-de4893fe9de9"
      },
      "execution_count": null,
      "outputs": [
        {
          "output_type": "stream",
          "name": "stdout",
          "text": [
            "-2.1910631681901496\n"
          ]
        }
      ]
    },
    {
      "cell_type": "code",
      "source": [
        "VaR_t = -(mu_t + sigma_t * t05) *1\n",
        "print(VaR_t)"
      ],
      "metadata": {
        "colab": {
          "base_uri": "https://localhost:8080/"
        },
        "id": "uAywZKLhESxi",
        "outputId": "b657d15c-8391-4848-fba0-2680aba07e55"
      },
      "execution_count": null,
      "outputs": [
        {
          "output_type": "stream",
          "name": "stdout",
          "text": [
            "0.03065396154289155\n"
          ]
        }
      ]
    },
    {
      "cell_type": "code",
      "source": [
        "# Historical method\n",
        "hist_VaR = -np.percentile(portr, 5)\n",
        "print(hist_VaR)"
      ],
      "metadata": {
        "colab": {
          "base_uri": "https://localhost:8080/"
        },
        "id": "DxKy78cQEhfK",
        "outputId": "e1fafcbb-a730-443b-f47d-80cf1046157e"
      },
      "execution_count": null,
      "outputs": [
        {
          "output_type": "stream",
          "name": "stdout",
          "text": [
            "0.028926594256303912\n"
          ]
        }
      ]
    },
    {
      "cell_type": "code",
      "source": [
        "print(\"1-Day 95% VaR: \")\n",
        "print(f\"Parametric (Normal): {VaR_norm:.5f}\")\n",
        "print(f\"Parametric (Student's t): {VaR_t:.5f}\")\n",
        "print(f\"Historical (5th percentile): {hist_VaR:.5f}\")"
      ],
      "metadata": {
        "colab": {
          "base_uri": "https://localhost:8080/"
        },
        "id": "jua3vglXHDAm",
        "outputId": "61b1ecac-7f2e-4114-dc62-95d2c8db8872"
      },
      "execution_count": null,
      "outputs": [
        {
          "output_type": "stream",
          "name": "stdout",
          "text": [
            "1-Day 95% VaR: \n",
            "Parametric (Normal): 0.02918\n",
            "Parametric (Student's t): 0.03065\n",
            "Historical (5th percentile): 0.02893\n"
          ]
        }
      ]
    },
    {
      "cell_type": "markdown",
      "source": [
        "We found that on most days portfolio won't lost more than 2.9 to 3.1%"
      ],
      "metadata": {
        "id": "O7GymiApIE75"
      }
    },
    {
      "cell_type": "markdown",
      "source": [
        "Hypothesis Test"
      ],
      "metadata": {
        "id": "r0J6-YxdIT9R"
      }
    },
    {
      "cell_type": "code",
      "source": [
        "t_stat, p_val = stats.ttest_1samp(portr, 0.0)\n",
        "print(\"One sample t-test on portfolio daily returns: \")\n",
        "print(f\"t-statistic: {t_stat:.5f}\")\n",
        "print(f\"p-value: {p_val:.5f}\")"
      ],
      "metadata": {
        "colab": {
          "base_uri": "https://localhost:8080/"
        },
        "id": "B62eldjNHhll",
        "outputId": "2151472e-6904-4b6e-d4de-ef3e8c842a80"
      },
      "execution_count": null,
      "outputs": [
        {
          "output_type": "stream",
          "name": "stdout",
          "text": [
            "One sample t-test on portfolio daily returns: \n",
            "t-statistic: 1.41530\n",
            "p-value: 0.15721\n"
          ]
        }
      ]
    },
    {
      "cell_type": "code",
      "source": [
        "if p_val < 0.05:\n",
        "  print(\" ->  Reject the null hypothesis, mean return is significantly different from zero.\")\n",
        "else:\n",
        "  print(\" ->  Fail to reject the null hypothesis, no evidence - mean return not equal to zero. \")"
      ],
      "metadata": {
        "colab": {
          "base_uri": "https://localhost:8080/"
        },
        "id": "PXDR_-g3Lss9",
        "outputId": "839f0499-5a27-4bdf-d8de-e4878c0e8be7"
      },
      "execution_count": null,
      "outputs": [
        {
          "output_type": "stream",
          "name": "stdout",
          "text": [
            " ->  Fail to reject the null hypothesis, no evidence - mean return not equal to zero. \n"
          ]
        }
      ]
    },
    {
      "cell_type": "code",
      "source": [
        "# Correalation and diversification benefits\n",
        "import seaborn as sns\n",
        "\n",
        "# a) Correlation heatmap\n",
        "corr = logr.corr()\n",
        "plt.figure(figsize=(6,5))\n",
        "sns.heatmap(corr, annot=True, cmap='coolwarm', vmin=1, vmax=1)\n",
        "plt.title('Asset Return Correlation Heatmap')\n",
        "plt.show()\n",
        "\n",
        "#b)\n",
        "#sigma_i = logr.std()\n",
        "#sigma_weighted = np.dot(weights, sigma_i)\n",
        "#sigma_portfolio = sigma_p\n",
        "#print(f\"Weighted avg sigma: {sigma_weighted:.4f}\")\n",
        "#print(f\"Actual Portfolio: {sigma_portfolio:.4f}\")\n",
        "#print(f\"Diversification benefit: {sigma_weighted-sigma_portfolio:.4f}\")"
      ],
      "metadata": {
        "colab": {
          "base_uri": "https://localhost:8080/",
          "height": 468
        },
        "id": "M31XH4DVL5Ip",
        "outputId": "160e2a78-377d-476e-91ae-74e8cd152c61"
      },
      "execution_count": null,
      "outputs": [
        {
          "output_type": "display_data",
          "data": {
            "text/plain": [
              "<Figure size 600x500 with 2 Axes>"
            ],
            "image/png": "[encoded data removed]"
          },
          "metadata": {}
        }
      ]
    },
    {
      "cell_type": "code",
      "source": [
        "cum_ret = (price / price.iloc[0]).prod(axis=1)\n",
        "cum_ret"
      ],
      "metadata": {
        "colab": {
          "base_uri": "https://localhost:8080/",
          "height": 458
        },
        "collapsed": true,
        "id": "K4yvogjGcBWy",
        "outputId": "8e2ef732-8005-4f60-a578-18ac07a7eb57"
      },
      "execution_count": null,
      "outputs": [
        {
          "output_type": "execute_result",
          "data": {
            "text/plain": [
              "2020-01-01    1.0\n",
              "2020-01-02    1.0\n",
              "2020-01-03    1.0\n",
              "2020-01-04    1.0\n",
              "2020-01-05    1.0\n",
              "             ... \n",
              "2025-05-19    1.0\n",
              "2025-05-20    1.0\n",
              "2025-05-21    1.0\n",
              "2025-05-22    1.0\n",
              "2025-05-23    1.0\n",
              "Freq: D, Length: 1970, dtype: float64"
            ],
            "text/html": [
              "<div>\n",
              "<style scoped>\n",
              "    .dataframe tbody tr th:only-of-type {\n",
              "        vertical-align: middle;\n",
              "    }\n",
              "\n",
              "    .dataframe tbody tr th {\n",
              "        vertical-align: top;\n",
              "    }\n",
              "\n",
              "    .dataframe thead th {\n",
              "        text-align: right;\n",
              "    }\n",
              "</style>\n",
              "<table border=\"1\" class=\"dataframe\">\n",
              "  <thead>\n",
              "    <tr style=\"text-align: right;\">\n",
              "      <th></th>\n",
              "      <th>0</th>\n",
              "    </tr>\n",
              "  </thead>\n",
              "  <tbody>\n",
              "    <tr>\n",
              "      <th>2020-01-01</th>\n",
              "      <td>1.0</td>\n",
              "    </tr>\n",
              "    <tr>\n",
              "      <th>2020-01-02</th>\n",
              "      <td>1.0</td>\n",
              "    </tr>\n",
              "    <tr>\n",
              "      <th>2020-01-03</th>\n",
              "      <td>1.0</td>\n",
              "    </tr>\n",
              "    <tr>\n",
              "      <th>2020-01-04</th>\n",
              "      <td>1.0</td>\n",
              "    </tr>\n",
              "    <tr>\n",
              "      <th>2020-01-05</th>\n",
              "      <td>1.0</td>\n",
              "    </tr>\n",
              "    <tr>\n",
              "      <th>...</th>\n",
              "      <td>...</td>\n",
              "    </tr>\n",
              "    <tr>\n",
              "      <th>2025-05-19</th>\n",
              "      <td>1.0</td>\n",
              "    </tr>\n",
              "    <tr>\n",
              "      <th>2025-05-20</th>\n",
              "      <td>1.0</td>\n",
              "    </tr>\n",
              "    <tr>\n",
              "      <th>2025-05-21</th>\n",
              "      <td>1.0</td>\n",
              "    </tr>\n",
              "    <tr>\n",
              "      <th>2025-05-22</th>\n",
              "      <td>1.0</td>\n",
              "    </tr>\n",
              "    <tr>\n",
              "      <th>2025-05-23</th>\n",
              "      <td>1.0</td>\n",
              "    </tr>\n",
              "  </tbody>\n",
              "</table>\n",
              "<p>1970 rows × 1 columns</p>\n",
              "</div><br><label><b>dtype:</b> float64</label>"
            ]
          },
          "metadata": {},
          "execution_count": 22
        }
      ]
    },
    {
      "cell_type": "code",
      "source": [
        "cum_port = (portr + 1).cumprod()\n",
        "cum_port"
      ],
      "metadata": {
        "colab": {
          "base_uri": "https://localhost:8080/",
          "height": 458
        },
        "collapsed": true,
        "id": "mFhAwXx0dEEN",
        "outputId": "1caa04e9-63c6-4e68-beab-b74f17cd0628"
      },
      "execution_count": null,
      "outputs": [
        {
          "output_type": "execute_result",
          "data": {
            "text/plain": [
              "2020-01-03    0.990112\n",
              "2020-01-06    1.002869\n",
              "2020-01-07    0.999406\n",
              "2020-01-08    1.007203\n",
              "2020-01-09    1.019421\n",
              "                ...   \n",
              "2025-05-16    2.074619\n",
              "2025-05-19    2.076247\n",
              "2025-05-20    2.057330\n",
              "2025-05-21    2.045685\n",
              "2025-05-22    2.058387\n",
              "Length: 1354, dtype: float64"
            ],
            "text/html": [
              "<div>\n",
              "<style scoped>\n",
              "    .dataframe tbody tr th:only-of-type {\n",
              "        vertical-align: middle;\n",
              "    }\n",
              "\n",
              "    .dataframe tbody tr th {\n",
              "        vertical-align: top;\n",
              "    }\n",
              "\n",
              "    .dataframe thead th {\n",
              "        text-align: right;\n",
              "    }\n",
              "</style>\n",
              "<table border=\"1\" class=\"dataframe\">\n",
              "  <thead>\n",
              "    <tr style=\"text-align: right;\">\n",
              "      <th></th>\n",
              "      <th>0</th>\n",
              "    </tr>\n",
              "  </thead>\n",
              "  <tbody>\n",
              "    <tr>\n",
              "      <th>2020-01-03</th>\n",
              "      <td>0.990112</td>\n",
              "    </tr>\n",
              "    <tr>\n",
              "      <th>2020-01-06</th>\n",
              "      <td>1.002869</td>\n",
              "    </tr>\n",
              "    <tr>\n",
              "      <th>2020-01-07</th>\n",
              "      <td>0.999406</td>\n",
              "    </tr>\n",
              "    <tr>\n",
              "      <th>2020-01-08</th>\n",
              "      <td>1.007203</td>\n",
              "    </tr>\n",
              "    <tr>\n",
              "      <th>2020-01-09</th>\n",
              "      <td>1.019421</td>\n",
              "    </tr>\n",
              "    <tr>\n",
              "      <th>...</th>\n",
              "      <td>...</td>\n",
              "    </tr>\n",
              "    <tr>\n",
              "      <th>2025-05-16</th>\n",
              "      <td>2.074619</td>\n",
              "    </tr>\n",
              "    <tr>\n",
              "      <th>2025-05-19</th>\n",
              "      <td>2.076247</td>\n",
              "    </tr>\n",
              "    <tr>\n",
              "      <th>2025-05-20</th>\n",
              "      <td>2.057330</td>\n",
              "    </tr>\n",
              "    <tr>\n",
              "      <th>2025-05-21</th>\n",
              "      <td>2.045685</td>\n",
              "    </tr>\n",
              "    <tr>\n",
              "      <th>2025-05-22</th>\n",
              "      <td>2.058387</td>\n",
              "    </tr>\n",
              "  </tbody>\n",
              "</table>\n",
              "<p>1354 rows × 1 columns</p>\n",
              "</div><br><label><b>dtype:</b> float64</label>"
            ]
          },
          "metadata": {},
          "execution_count": 23
        }
      ]
    },
    {
      "cell_type": "code",
      "source": [
        "#track the highest values so far\n",
        "rolling_max = cum_port.cummax()\n",
        "drawdown = (cum_port - rolling_max) / rolling_max"
      ],
      "metadata": {
        "id": "N5OtFcyQdNmd"
      },
      "execution_count": null,
      "outputs": []
    },
    {
      "cell_type": "code",
      "source": [
        "max_dd = drawdown.min()\n",
        "print(f\"Maximum drawdown: {max_dd:.5f}\")\n",
        "\n",
        "end_date = drawdown.idxmin()\n",
        "print(f\"Date of maximum drawdown: {end_date}\")\n",
        "\n",
        "start_date = cum_port[:end_date].idxmax()\n",
        "print(f\"Date of maximum drawdown recovery: {start_date}\")\n",
        "\n",
        "print(f\"\\nFrom {start_date.date()} to {end_date.date()}\")"
      ],
      "metadata": {
        "colab": {
          "base_uri": "https://localhost:8080/"
        },
        "id": "XV1oYI2pd4im",
        "outputId": "f0dd8af1-318e-4b2f-ba4b-b2d9896eb5d6"
      },
      "execution_count": null,
      "outputs": [
        {
          "output_type": "stream",
          "name": "stdout",
          "text": [
            "Maximum drawdown: -0.43979\n",
            "Date of maximum drawdown: 2023-01-05 00:00:00\n",
            "Date of maximum drawdown recovery: 2021-12-10 00:00:00\n",
            "\n",
            "From 2021-12-10 to 2023-01-05\n"
          ]
        }
      ]
    },
    {
      "cell_type": "code",
      "source": [
        "#plot\n",
        "plt.figure(figsize=(10,4))\n",
        "plt.plot(cum_port, label='Portfolio Cumulative Returns')\n",
        "plt.fill_between(drawdown.index, cum_port, rolling_max,\n",
        "                 where = drawdown<0, color='red', alpha=0.3)\n",
        "plt.title('Portfolio Cumulative Returns and Drawdowns')\n",
        "plt.xlabel('Date')\n",
        "plt.ylabel('Cumulative Returns')\n",
        "plt.legend()\n",
        "plt.show()"
      ],
      "metadata": {
        "colab": {
          "base_uri": "https://localhost:8080/",
          "height": 316
        },
        "id": "wet2iGzWeYvy",
        "outputId": "458051e5-7467-42c3-8f28-0e2bb7d668a8"
      },
      "execution_count": null,
      "outputs": [
        {
          "output_type": "display_data",
          "data": {
            "text/plain": [
              "<Figure size 1000x400 with 1 Axes>"
            ],
            "image/png": "[encoded data removed]"
          },
          "metadata": {}
        }
      ]
    },
    {
      "cell_type": "markdown",
      "source": [
        "Expected Shortfall (CVaR)"
      ],
      "metadata": {
        "id": "nV6g2gDnJTN8"
      }
    },
    {
      "cell_type": "code",
      "source": [
        "alpha = 0.5 #ES beyond 95%\n",
        "\n",
        "#Historical\n",
        "ES_historical = portr[portr <= np.percentile(portr, 5)].mean()\n",
        "print(f\"Historical ES (95%): {ES_historical:.5f}\")\n",
        "\n",
        "#Normal\n",
        "ES_norm = (μ_p - σ_p * stats.norm.pdf(z05)/ alpha)\n",
        "print(f\"Normal ES (95%): {ES_norm:.5f}\")\n"
      ],
      "metadata": {
        "id": "clrpS7gUhARw",
        "colab": {
          "base_uri": "https://localhost:8080/"
        },
        "outputId": "c56508c7-c8ea-4795-b109-dd6a0ec8f486"
      },
      "execution_count": null,
      "outputs": [
        {
          "output_type": "stream",
          "name": "stdout",
          "text": [
            "Historical ES (95%): -0.04230\n",
            "Normal ES (95%): -0.00305\n"
          ]
        }
      ]
    },
    {
      "cell_type": "markdown",
      "source": [
        "VaR Backtesting"
      ],
      "metadata": {
        "id": "rYuog0oMPfjA"
      }
    },
    {
      "cell_type": "code",
      "source": [
        "var_series = -(portr.rolling(1).mean() + portr.rolling(1).std()*z05)\n",
        "# For simplicity use constant VaR_norm\n",
        "exceptions = portr < -VaR_norm\n",
        "num_exc = exceptions.sum()\n",
        "total = len(portr)\n",
        "print(f\"Exceptions: {num_exc}/{total} days ({num_exc/total:.2%}, expected ~5%)\")"
      ],
      "metadata": {
        "colab": {
          "base_uri": "https://localhost:8080/"
        },
        "id": "W9Oma9VGNc3X",
        "outputId": "f74388f1-bc7f-4874-8d7a-fdff3ceacdd8"
      },
      "execution_count": null,
      "outputs": [
        {
          "output_type": "stream",
          "name": "stdout",
          "text": [
            "Exceptions: 67/1354 days (4.95%, expected ~5%)\n"
          ]
        }
      ]
    },
    {
      "cell_type": "markdown",
      "source": [
        "Rolling 60-day VaR"
      ],
      "metadata": {
        "id": "D7w4NXC7Uorx"
      }
    },
    {
      "cell_type": "code",
      "source": [
        "window = 60\n",
        "roll_var = portr.rolling(window).quantile(0.05).dropna()\n",
        "plt.figure(figsize = (10,4))\n",
        "plt.plot(-roll_var, label='Rolling 95% VaR (hist)')\n",
        "plt.axhline(VaR_norm, color='red', linestyle='--', label='static VaR')\n",
        "plt.title('Rolling 60-Day Historical VaR (95%)')\n",
        "plt.ylabel('VaR')\n",
        "plt.legend()\n",
        "plt.show()"
      ],
      "metadata": {
        "colab": {
          "base_uri": "https://localhost:8080/",
          "height": 299
        },
        "id": "JdxWO2PAQTlW",
        "outputId": "36918cea-f8a8-4fc4-c2d3-6ddad74cc22c"
      },
      "execution_count": null,
      "outputs": [
        {
          "output_type": "display_data",
          "data": {
            "text/plain": [
              "<Figure size 1000x400 with 1 Axes>"
            ],
            "image/png": "[encoded data removed]"
          },
          "metadata": {}
        }
      ]
    },
    {
      "cell_type": "markdown",
      "source": [
        "Jarque-Bera Normality Test"
      ],
      "metadata": {
        "id": "Phwosoa6XT1L"
      }
    },
    {
      "cell_type": "code",
      "source": [
        "jb_start, jb_p = stats.jarque_bera(portr)\n",
        "print(f\"JB statistic: {jb_start:.2f}\")\n",
        "print(f\"p-value: {jb_p:.3f}\")\n",
        "\n",
        "if jb_p < 0.05:\n",
        "  print(\"->  Reject the normality at 5% level.\")\n",
        "else:\n",
        "  print(\"->  Cannot reject normality.\")"
      ],
      "metadata": {
        "colab": {
          "base_uri": "https://localhost:8080/"
        },
        "id": "Rla23cCMV8HY",
        "outputId": "4737002d-e562-46f1-e053-7543e990d9ab"
      },
      "execution_count": null,
      "outputs": [
        {
          "output_type": "stream",
          "name": "stdout",
          "text": [
            "JB statistic: 1191.65\n",
            "p-value: 0.000\n",
            "->  Reject the normality at 5% level.\n"
          ]
        }
      ]
    },
    {
      "cell_type": "code",
      "source": [],
      "metadata": {
        "id": "o8wvzqqwYMeD"
      },
      "execution_count": null,
      "outputs": []
    },
    {
      "cell_type": "markdown",
      "source": [
        "ASSIGNMENT QUESTIONS:"
      ],
      "metadata": {
        "id": "-ubLpUT1jQIC"
      }
    },
    {
      "cell_type": "markdown",
      "source": [
        "**Question - 1:**\n",
        "\n",
        "Given a portfolio’s VaR at 95% confidence is 10,000, compute the Expected Shortfall (ES)\n",
        "if the tail loss distribution follows a normal distribution."
      ],
      "metadata": {
        "id": "6ZKjEjvhjZMQ"
      }
    },
    {
      "cell_type": "code",
      "source": [
        "# VaR at 95% confidence is 10,000\n",
        "# The formula for Expected Shortfall (ES) for a normal distribution is:\n",
        "# ES = μ - σ * (φ(z_α) / α)\n",
        "# where:\n",
        "# μ is the mean return\n",
        "# σ is the standard deviation of returns\n",
        "# φ is the probability density function (PDF) of the standard normal distribution\n",
        "# z_α is the α-th quantile of the standard normal distribution (where α is the confidence level, e.g., 0.05 for 95% VaR/ES)\n",
        "# α is the significance level (1 - confidence level, so 0.05 for 95%)\n",
        "\n",
        "# Recalculate ES using the normal distribution formula with the parameters from the data\n",
        "\n",
        "alpha = 0.05 # Significance level for 95% confidence\n",
        "pdf_at_z05 = stats.norm.pdf(z05)\n",
        "\n",
        "ES_norm_calculated = -(μ_p - σ_p * (pdf_at_z05 / alpha))\n",
        "print(f\"\\nCalculated ES (95%) assuming Normal Distribution based on portfolio data: {ES_norm_calculated:.5f}\")\n",
        "\n",
        "#print(\"\\nAssuming the question asks for the Expected Shortfall percentage based on the fitted normal distribution:\")\n",
        "print(f\"Expected Shortfall (ES) at 95% Confidence (Normal Distribution assumption): {-ES_norm_calculated * 100:.5f}%\")\n",
        "\n",
        "print(\"\\nCorrected calculation for Normal ES using alpha = 0.05:\")\n",
        "print(f\"Normal ES (95%): {ES_norm_calculated:.5f}\")\n",
        "print(f\"Normal ES (95% as a positive loss percentage): {-ES_norm_calculated:.5f}\")"
      ],
      "metadata": {
        "colab": {
          "base_uri": "https://localhost:8080/"
        },
        "id": "m0mbqOKZjXsP",
        "outputId": "29283df6-7620-4829-a74d-e9edec81a507"
      },
      "execution_count": null,
      "outputs": [
        {
          "output_type": "stream",
          "name": "stdout",
          "text": [
            "\n",
            "Calculated ES (95%) assuming Normal Distribution based on portfolio data: 0.03677\n",
            "Expected Shortfall (ES) at 95% Confidence (Normal Distribution assumption): -3.67666%\n",
            "\n",
            "Corrected calculation for Normal ES using alpha = 0.05:\n",
            "Normal ES (95%): 0.03677\n",
            "Normal ES (95% as a positive loss percentage): -0.03677\n"
          ]
        }
      ]
    },
    {
      "cell_type": "markdown",
      "source": [
        "**Conclusion:**\n",
        "\n",
        "The analysis concludes with calculating the Expected Shortfall (ES) for the portfolio assuming a normal distribution for losses.\n",
        "\n",
        "When the market is really bad (worse than 95% of days), the average loss we expect for this portfolio is about 3.68%. This is the \"Expected Shortfall\".\n",
        "\n",
        "The \"Value at Risk\" (VaR) tells us the most we expect to lose on 95% of days, but the Expected Shortfall tells us what the average loss is when we lose more than the VaR."
      ],
      "metadata": {
        "id": "hOWEJlJElybi"
      }
    },
    {
      "cell_type": "markdown",
      "source": [
        "**Question - 2:**\n",
        "\n",
        "A portfolio has an expected annual return of 12%, a risk-free rate of 2%, and a standard\n",
        "deviation of 18%. Compute the Sharpe Ratio."
      ],
      "metadata": {
        "id": "3kXQJrQmmP8H"
      }
    },
    {
      "cell_type": "code",
      "source": [
        "expected_annual_return = 0.12  # 12%\n",
        "risk_free_rate = 0.02    # 2%\n",
        "annual_std_dev = 0.18    # 18%\n",
        "\n",
        "sharpe_ratio = (expected_annual_return - risk_free_rate) / annual_std_dev\n",
        "print(f\"The Sharpe Ratio is: {sharpe_ratio:.4f}\")"
      ],
      "metadata": {
        "colab": {
          "base_uri": "https://localhost:8080/"
        },
        "id": "kueKLq-HlcbB",
        "outputId": "fd17d641-e74f-4637-9792-eaa50e48cb85"
      },
      "execution_count": null,
      "outputs": [
        {
          "output_type": "stream",
          "name": "stdout",
          "text": [
            "The Sharpe Ratio is: 0.5556\n"
          ]
        }
      ]
    },
    {
      "cell_type": "markdown",
      "source": [
        "**Conclusion:**\n",
        "\n",
        "Higher Sharpe Ratio is Better:\n",
        "A higher score means you're getting more return for each unit of risk you're taking.\n",
        "\n",
        "Lower Sharpe Ratio is not as Good:\n",
        "A lower score means you're taking more risk for the amount of return you're getting.\n",
        "\n",
        "A Sharpe Ratio of 0.5556 means you are getting a return of 0.5556 units above that risk-free rate.\n",
        "We want this number to be as high as possible while comparing."
      ],
      "metadata": {
        "id": "sQ_tnLHQmjhu"
      }
    },
    {
      "cell_type": "markdown",
      "source": [
        "**Question - 3**\n",
        "\n",
        "Given mean return = 7%, volatility = 12%, and time horizon = 1 year, simulate one\n",
        "possible future portfolio return using a Monte Carlo model."
      ],
      "metadata": {
        "id": "LByrPs8ZrFDX"
      }
    },
    {
      "cell_type": "code",
      "source": [
        "mean_return = 0.07  # 7%\n",
        "volatility = 0.12   # 12%\n",
        "time_horizon = 1    # 1 year\n",
        "\n",
        "simulated_return = np.random.normal(loc=mean_return, scale=volatility)\n",
        "\n",
        "print(f\"One possible simulated portfolio return over 1 year: {simulated_return:.4f}\")"
      ],
      "metadata": {
        "colab": {
          "base_uri": "https://localhost:8080/"
        },
        "id": "LuGT_55JmgeN",
        "outputId": "5871146e-6c6e-464f-8fed-9468b14bedb2"
      },
      "execution_count": null,
      "outputs": [
        {
          "output_type": "stream",
          "name": "stdout",
          "text": [
            "One possible simulated portfolio return over 1 year: -0.0381\n"
          ]
        }
      ]
    },
    {
      "cell_type": "markdown",
      "source": [
        "**Conclusion:**\n",
        "\n",
        "Based on this single simulation, the portfolio might actually lose money over 1 year, specifically about 3.81%.\n",
        "This is just one possibility out of many because the return is random, based on the average expected return and how much the returns typically jump. Some simulations would show gains, others losses, depending on this randomness."
      ],
      "metadata": {
        "id": "K_6dodpZry93"
      }
    },
    {
      "cell_type": "code",
      "source": [],
      "metadata": {
        "id": "IoUVUJpqrixO"
      },
      "execution_count": null,
      "outputs": []
    }
  ]
}