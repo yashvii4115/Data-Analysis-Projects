{
  "nbformat": 4,
  "nbformat_minor": 0,
  "metadata": {
    "colab": {
      "provenance": []
    },
    "kernelspec": {
      "name": "python3",
      "display_name": "Python 3"
    },
    "language_info": {
      "name": "python"
    }
  },
  "cells": [
    {
      "cell_type": "markdown",
      "source": [
        "# Call Center Optimization:\n",
        "A simulation based approach to staffing, cost and customer experience."
      ],
      "metadata": {
        "id": "e1yICFyYibZm"
      }
    },
    {
      "cell_type": "code",
      "execution_count": 1,
      "metadata": {
        "id": "BWtcB-uNrwz-"
      },
      "outputs": [],
      "source": [
        "import numpy as np\n",
        "import matplotlib.pyplot as plt\n",
        "import pandas as pd\n",
        "\n",
        "# Arrival and Service rate\n",
        "λ = 20    # calls per hour\n",
        "μ = 5     # calls served per agent per hour\n",
        "shift_hours = 8   # 8 hour shift\n",
        "\n",
        "np.random.seed(1)"
      ]
    },
    {
      "cell_type": "code",
      "source": [
        "# This function simulates what happens in a call center for one day\n",
        "\n",
        "def simulate_queue(s):\n",
        "  inter = np.random.exponential(1/λ, int(λ*shift_hours*1.5))\n",
        "  arrivals= np.cumsum(inter)    #within the 8 hour shift\n",
        "  arrivals = arrivals[arrivals<shift_hours]   #only taken under 8 hours\n",
        "  N=len(arrivals)   #total number of calls during 8 hour shift\n",
        "  arrivals\n",
        "\n",
        "  services=np.random.exponential(1/μ,N)\n",
        "  # Not all calls take the same time, some are quick and some are longer.\n",
        "  next_free = np.zeros(s)      # When each agent is next available\n",
        "  wait_times = np.zeros(N)    # How long each customer waits\n",
        "  system_size = np.zeros(N)   # How many are in the system when each customer arrives\n",
        "  dep_times = []              # Tracks when people finish their service\n",
        "  # These arrays keep tracks of:\n",
        "      # -> when agents are free,\n",
        "      # -> how long people wait and\n",
        "      # -> how crowded the system is.\n",
        "\n",
        "  for i, t in enumerate(arrivals):\n",
        "    j = np.argmin(next_free)\n",
        "    start = max(t, next_free[j])\n",
        "    wait_times[i] = start - t\n",
        "    end = start + services[i]\n",
        "    next_free[j] = end\n",
        "    dep_times.append(end)\n",
        "  # count how many callers are still in system at time t\n",
        "  system_size[i] = np.sum(np.array(dep_times) > t)\n",
        "\n",
        "  return wait_times, system_size\n",
        "\n",
        "#quick test for s=1\n",
        "w1, q1 =simulate_queue(s=1)\n",
        "print(f\"s=1: avg wait {w1.mean()*60:.1f} min, avg queue len {q1.mean():.2f}\")"
      ],
      "metadata": {
        "colab": {
          "base_uri": "https://localhost:8080/"
        },
        "id": "vlo78dVwz_3p",
        "outputId": "76164f14-f987-4330-dc1d-11c11fa68412"
      },
      "execution_count": 2,
      "outputs": [
        {
          "output_type": "stream",
          "name": "stdout",
          "text": [
            "s=1: avg wait 808.2 min, avg queue len 0.79\n"
          ]
        }
      ]
    },
    {
      "cell_type": "markdown",
      "source": [
        "### **Compare to M/M/1 Analytic Formula**\n",
        "*   M = Memoryless arrivals\n",
        "*   M = Memoryless service times\n",
        "*   1 = One server/agent\n",
        "\n",
        "\n",
        "\n",
        "---\n",
        "\n",
        "\n",
        "**Traffic intensity ρ for s=1**\n",
        "\n",
        "This shows how busy the system is.\n",
        "\n",
        "when ρ >= 1, the system becomes unstable(more customers arrive than can be served)\n",
        "\n",
        "\n",
        "---\n",
        "\n",
        "\n",
        "We're comparing theory with reality.\n",
        "The formulas tell us what to expect\n",
        "\n",
        "The simulation shows what actually happens. If they're close, our model is accurate."
      ],
      "metadata": {
        "id": "eFdERTwSlFC6"
      }
    },
    {
      "cell_type": "code",
      "source": [
        "ρ1 = λ / μ\n",
        "t_analytic = ρ1 / (1 - ρ1)\n",
        "w_analytic = t_analytic / λ\n",
        "\n",
        "print(\"M/M/1 analytic vs Simulation: \")\n",
        "print(f\"  Analytic System size L = {t_analytic:.2f}\")\n",
        "print(f\"  Simulated avg System size  = {q1.mean():.2f}\")\n",
        "print(f\"  Analytic time in system W = {w_analytic*60:.1f} min\")\n",
        "print(f\"  Simulated avg Wait + service time = {w1.mean()*60:.1f} min\")"
      ],
      "metadata": {
        "colab": {
          "base_uri": "https://localhost:8080/"
        },
        "id": "WhECP1MB2jMj",
        "outputId": "b153fff1-0f03-4046-c8c2-412e162176ca"
      },
      "execution_count": 3,
      "outputs": [
        {
          "output_type": "stream",
          "name": "stdout",
          "text": [
            "M/M/1 analytic vs Simulation: \n",
            "  Analytic System size L = -1.33\n",
            "  Simulated avg System size  = 0.79\n",
            "  Analytic time in system W = -4.0 min\n",
            "  Simulated avg Wait + service time = 808.2 min\n"
          ]
        }
      ]
    },
    {
      "cell_type": "markdown",
      "source": [
        "### **Test Staffing Levels** (Agents = 1 to 5)\n",
        "\n",
        "Figure out how many call center agents are needed to keep most customers from waiting too long.\n",
        "\n",
        "Specifically, we want the 95th percentile of wait times to be 5 minutes or less that is 95% of customers should wait not more than 5 minutes."
      ],
      "metadata": {
        "id": "jkBmB-ZQl0QQ"
      }
    },
    {
      "cell_type": "code",
      "source": [
        "threshold = 5 # minutes\n",
        "results = []\n",
        "\n",
        "for s in range(1, 6):\n",
        "  w, q = simulate_queue(s)    # w = wait times for all customers(in hours)\n",
        "  #convert hours to minutes\n",
        "  waits_min = w * 60\n",
        "  p95_wait = np.percentile(waits_min, 95)\n",
        "  results.append((s, waits_min.mean(), p95_wait, q.mean()))\n",
        "\n",
        "df = pd.DataFrame(results, columns=['Agents', 'Avg Wait (min)', '95th-pct Wait (min)', 'Avg System Size 1'])\n",
        "print(df)\n",
        "\n",
        "#find minimal s meeting threshold\n",
        "good = df[df['95th-pct Wait (min)'] <= threshold]\n",
        "if not good.empty:\n",
        "  best_s = int(good.iloc[0]['Agents'])\n",
        "  print(f\"\\n- Schedule at least {best_s} agents to keep 95% of waits ≤ {threshold} min.\")\n",
        "else:\n",
        "  print(\"Even 5 agents can't meet the 5 min 95% wait target.\")"
      ],
      "metadata": {
        "id": "G0nWI9GG5J0Y",
        "colab": {
          "base_uri": "https://localhost:8080/"
        },
        "outputId": "cecc6a28-1662-47a8-8d4e-90387c42db54"
      },
      "execution_count": 4,
      "outputs": [
        {
          "output_type": "stream",
          "name": "stdout",
          "text": [
            "   Agents  Avg Wait (min)  95th-pct Wait (min)  Avg System Size 1\n",
            "0       1      697.214437          1369.612086           0.751553\n",
            "1       2      302.261095           549.271769           0.552326\n",
            "2       3       85.889649           170.968262           0.279221\n",
            "3       4        6.076046            17.455365           0.022556\n",
            "4       5       12.704327            33.414296           0.042328\n",
            "Even 5 agents can't meet the 5 min 95% wait target.\n"
          ]
        }
      ]
    },
    {
      "cell_type": "markdown",
      "source": [
        "### Visualize Wait-Time Distributions"
      ],
      "metadata": {
        "id": "x7tv1KxwmwEG"
      }
    },
    {
      "cell_type": "code",
      "source": [
        "plt.figure(figsize=(12, 5))\n",
        "for s in [1,2,3,4,5]:\n",
        "  w,_ = simulate_queue(s)\n",
        "  plt.hist(w*60, bins=30, alpha=0.5, label=f's={s}')\n",
        "plt.axvline(threshold, color='k', linestyle='--', label='5 min target')\n",
        "plt.xlabel('Wait Time (minutes)')\n",
        "plt.ylabel('Frequency')\n",
        "plt.title('Wait Time Distribution for Different Agent Counts')\n",
        "plt.legend()\n",
        "plt.show()"
      ],
      "metadata": {
        "colab": {
          "base_uri": "https://localhost:8080/",
          "height": 317
        },
        "id": "gyLNc4_Y4NFf",
        "outputId": "da18aaaf-7d23-4a57-90fb-30ec9a1c7263"
      },
      "execution_count": 5,
      "outputs": [
        {
          "output_type": "display_data",
          "data": {
            "text/plain": [
              "<Figure size 1200x500 with 1 Axes>"
            ],
            "image/png": "[encoded data removed]"
          },
          "metadata": {}
        }
      ]
    },
    {
      "cell_type": "markdown",
      "source": [
        "Here in graph,\n",
        "\n",
        "Each colour represents a different number of agents.\n",
        "\n",
        "\n",
        "*   1 agent -> many customers wait for long time (tall bars on the right)\n",
        "*   More agent -> wait times shift left (fewer long waits)\n",
        "*   The dashed line at 5 min shows which staffing levels meet the target.\n",
        "\n",
        "This chart shows how wait times improve as we add more agents.\n",
        "It helps us visually decide how many staff we need to keep customers happy.\n",
        "\n",
        "\n",
        "\n"
      ],
      "metadata": {
        "id": "c5nMt6BbneBk"
      }
    },
    {
      "cell_type": "markdown",
      "source": [
        "### **Time-Varying Arrival Rates** (Peak vs Off-peak)\n",
        "\n",
        "What: model changing over 8-hour shift.\n",
        "\n",
        "Why: Real call centers see non-stationary traffic.\n",
        "\n",
        "This function simulates a real-world call center where call volume changes throughout the day. It helps us understand how many agents we need to keep up with busy and slow hours, and how those ups and downs affect customer wait times."
      ],
      "metadata": {
        "id": "r-JD7oTjqkR7"
      }
    },
    {
      "cell_type": "code",
      "source": [
        "def simulate_queue_timevaring(s):\n",
        "  # To simulate how wait times change when call volume varies at different times of the day.\n",
        "  # define piecewise arrival rates per hour\n",
        "  periods = [(0,2,30),(2,6,20),(6,8,40)] #(start, end, λ)\n",
        "  # modelling a full 8-hour shuft with 3 different phases of traffic\n",
        "  arrivals = [] # Initialize arrivals list before the loop\n",
        "  for start, end, lam in periods:\n",
        "    duration = end - start\n",
        "    inter = np.random.exponential(1/lam, int(lam*duration*1.5))\n",
        "    ts = np.cumsum(inter) + start\n",
        "    arrivals.extend(ts[ts < end])\n",
        "  arrivals = np.array(arrivals)\n",
        "  arrivals.sort()\n",
        "    # Calls don't come at the same rate all day - some times are busier\n",
        "  N = len(arrivals)\n",
        "  services = np.random.exponential(1/μ, N)\n",
        "  next_free = np.zeros(s)     # keeps track of when each agent is available\n",
        "  wait_times = np.zeros(N)    # will store how long each caleer waits\n",
        "\n",
        "  for i,t in enumerate(arrivals):\n",
        "    j = np.argmin(next_free)\n",
        "    start = max(t, next_free[j])\n",
        "    wait_times[i] = start - t\n",
        "    next_free[j] = start + services[i]\n",
        "  return wait_times # Make sure the function returns the wait_times array\n",
        "\n",
        "w_tv = simulate_queue_timevaring(s=3)\n",
        "print(f\"Time-Varing λ, s=3 -> avg wait = {w_tv.mean()*60:.1f} min\")"
      ],
      "metadata": {
        "colab": {
          "base_uri": "https://localhost:8080/"
        },
        "id": "kkkymuKbAhKU",
        "outputId": "7f011ca4-c1f9-4aa6-950b-1f5e67160da3"
      },
      "execution_count": 6,
      "outputs": [
        {
          "output_type": "stream",
          "name": "stdout",
          "text": [
            "Time-Varing λ, s=3 -> avg wait = 174.1 min\n"
          ]
        }
      ]
    },
    {
      "cell_type": "markdown",
      "source": [
        "# **Customer Abandoment** (Impatience)\n",
        "\n",
        "Simulate what happens when customers hang up and leave if they have to wait for too long.\n",
        "\n",
        "This is called Abandoment, and it's real issue in call centers, customer services and support chat system.\n",
        "\n",
        "We're simulating a real call center where customers hand up if they wait for more than 5 minutes. We track how many leave, and how long the rest waited."
      ],
      "metadata": {
        "id": "IeUJRGG1hOSx"
      }
    },
    {
      "cell_type": "code",
      "source": [
        "# Customer abandonment (patience threshold)\n",
        "def simulate_with_abandon(s, patience=5/60):\n",
        "  arrivals = np.cumsum(np.random.exponential (1/λ, int(λ*shift_hours*1.5)))\n",
        "  arrivals = arrivals[arrivals<shift_hours]\n",
        "  services = np.random.exponential(1/µ, len(arrivals))\n",
        "  next_free = np.zeros(s)   # tracks when each agent becomes available\n",
        "  waits = []    # stores wait times for customers who actually get served\n",
        "  abandons = 0    # counts how many leave without service\n",
        "\n",
        "    # This function simulates the queue for s agents. Customers will abandon (leave) if their wait time is longer than patience (default patience is 5/60 hours = 5 minutes)\n",
        "    # simulate random arrival times and random service times just like before. Only keep arrivals within the 8-hour workday.\n",
        "\n",
        "  for i, t in enumerate(arrivals):\n",
        "    j = np.argmin(next_free)\n",
        "    start = max(t, next_free[j])\n",
        "    wait = start - t\n",
        "    if wait > patience:\n",
        "      abandons += 1\n",
        "    else:\n",
        "      waits.append(wait)\n",
        "      next_free[j] = start + services[i]\n",
        "  return np.array(waits), abandons / len(arrivals)\n",
        "\n",
        "  # For each customers; find the soonest available agent.\n",
        "  # If they have to wait longer than 5 minutes, they abandon, otherwise: They wait/ get served/ agent becomes available again after service time.\n",
        "\n",
        "w, ab_rate = simulate_with_abandon(s=4)\n",
        "print(f\"Abandon rate (s=4): {ab_rate:.2%}, avg wait on served calls: {w.mean()*60:.1f} min\")\n",
        "\n",
        "# Shows the trade-off: fewer agents -> more abandonments -> lost revenue and satisfaction"
      ],
      "metadata": {
        "colab": {
          "base_uri": "https://localhost:8080/"
        },
        "id": "kvMOdb-xNpcX",
        "outputId": "745790a7-c9f7-4aa1-b089-484bf6113c21"
      },
      "execution_count": 7,
      "outputs": [
        {
          "output_type": "stream",
          "name": "stdout",
          "text": [
            "Abandon rate (s=4): 13.12%, avg wait on served calls: 0.6 min\n"
          ]
        }
      ]
    },
    {
      "cell_type": "markdown",
      "source": [
        "# Agent Break Scheduling\n",
        "\n",
        "Simulate a realistic scenario where agents take a break during their shift, which reduces the number of available staff for a short time - and see how this affect customers wait times.\n",
        "\n",
        "In real world, employees can't work nonstop. Breaks and rest periods must be scheduled but these still affect customer service performance. This model captures that effect\n",
        "\n",
        "\n",
        "---\n",
        "\n",
        "\n",
        "This simulation shows what happens when one of the 3 agents takes a 15 minute break. Wait times get longer during that window, then recover after the break ends.\n",
        "\n",
        "This is highly relevant to retail, hospitality, call center and any customer-facing environment with shift workers."
      ],
      "metadata": {
        "id": "eyCwlcLxj5Pj"
      }
    },
    {
      "cell_type": "code",
      "source": [
        "def simulate_with_break(s, break_start=3, break_length=0.25):       # s = number of agents; break starts at hour 3 of the shift; break lasts 15 minutes (0.25 hours)\n",
        "  arrivals = np.cumsum(np.random.exponential (1/λ, int(λ*shift_hours*1.5)))\n",
        "  arrivals = arrivals[arrivals<shift_hours]\n",
        "  services = np.random.exponential(1/µ, len(arrivals))\n",
        "  next_free = np.zeros(s)\n",
        "  waits = []\n",
        "\n",
        "  for i,t in enumerate(arrivals):\n",
        "      # if in break window, one fewer agent\n",
        "      avail = next_free.copy()\n",
        "      if break_start <= t < break_start + break_length:\n",
        "        avail = np.delete(avail, 0) # During break window, remove one agent (from being available).\n",
        "      j = np.argmin(avail)\n",
        "      start = max(t, avail[j])\n",
        "      waits.append(start - t)\n",
        "      # update the agent's free time in original array\n",
        "      idx = j + (1 if break_start < t < break_start + break_length else 0)\n",
        "      next_free[idx] = start + services[i]\n",
        "  return np.array(waits)\n",
        "# After the call is handled, update the agent's now availability time.\n",
        "# idx- adjusts for the shift in indexing if someone is on break\n",
        "\n",
        "w_b = simulate_with_break(s=3)\n",
        "print(f\"With breaks, s=3 -> avg wait = {w_b.mean()*60:.1f} min\")\n",
        "\n",
        "# see the break-time spike in waiting"
      ],
      "metadata": {
        "colab": {
          "base_uri": "https://localhost:8080/"
        },
        "id": "TEOc26zVVc2K",
        "outputId": "c0feea59-638f-4539-f1b1-d902aaf20ab9"
      },
      "execution_count": 8,
      "outputs": [
        {
          "output_type": "stream",
          "name": "stdout",
          "text": [
            "With breaks, s=3 -> avg wait = 97.0 min\n"
          ]
        }
      ]
    },
    {
      "cell_type": "markdown",
      "source": [
        "# **Cost-Based Staffing Optimization**\n",
        "\n",
        "(How many agents should we hire)\n",
        "\n",
        "What: Assign a cost per agent per hour and a cost per minute of customer wait. Find a minimizing total cost.\n",
        "\n",
        "Why: Real managers trade off staffing vs customer frustration costs.\n",
        "\n",
        "\n",
        "---\n",
        "\n",
        "\n",
        "In business, it's not just about short wait times - it's about balancing service quality with cost.\n",
        "\n",
        "This model helps managers:\n",
        "\n",
        "How many people should we schedule so we don't overpay or lose customers?"
      ],
      "metadata": {
        "id": "C6hIE2pkmWzN"
      }
    },
    {
      "cell_type": "code",
      "source": [
        "# Cost Optimization\n",
        "\n",
        "c_agent = 20    # $20/hr per agent\n",
        "c_wait = 0.50     # $0.50 per minute waited\n",
        "costs = []\n",
        "\n",
        "for s in range(1,6):\n",
        "  w, _ = simulate_with_abandon(s)\n",
        "  total_wait_cost = w.sum()*60*c_wait     # total minutes waited * 0.05\n",
        "  staff_cost = s*c_agent*shift_hours      # number of agents * 20/hr * 8 hours\n",
        "  costs.append((s, staff_cost + total_wait_cost))\n",
        "\n",
        "opt = min(costs, key=lambda x: x[1])\n",
        "   # find the (s, cost) pair with the lowest total cost.\n",
        "   # opt[0] will be the best number of agents.\n",
        "print(\"Agent count, total cost: \")\n",
        "for s,c in costs: print(f\"s=(s): ${c:,.0f}\")\n",
        "print(f\" -> Optimal s by cost = {opt[0]}\")\n",
        "\n",
        "# We are testing five different team sizes and asking:\n",
        "    # which one gives us the lowest total cost, including salaries and customer frustration?"
      ],
      "metadata": {
        "id": "YFgv94mRafPZ",
        "colab": {
          "base_uri": "https://localhost:8080/"
        },
        "outputId": "fe7954de-aabc-44f6-f0af-94f797f1ab54"
      },
      "execution_count": 9,
      "outputs": [
        {
          "output_type": "stream",
          "name": "stdout",
          "text": [
            "Agent count, total cost: \n",
            "s=(s): $206\n",
            "s=(s): $406\n",
            "s=(s): $578\n",
            "s=(s): $705\n",
            "s=(s): $850\n",
            " -> Optimal s by cost = 1\n"
          ]
        }
      ]
    },
    {
      "cell_type": "markdown",
      "source": [
        "Interpretation:\n",
        "\n",
        "*  Hiring 4 agents gives the best balance - low wait times without overpaying for idle staff."
      ],
      "metadata": {
        "id": "UdxN8KL-Fb8Z"
      }
    },
    {
      "cell_type": "markdown",
      "source": [
        "# **Multi-Day Variability & Sensitivity Analysis**\n",
        "\n",
        "What: Run the full simulation(with your chosen features) over 30 days, record daily metrics and plot their distribution\n",
        "\n",
        "Why: Highlights day-to-day variability and worst-case scenarios.\n",
        "\n",
        "Even if we pick the optimal number of agents, how much can daily performance vary from one day to another?"
      ],
      "metadata": {
        "id": "sFHP7wHjFuG7"
      }
    },
    {
      "cell_type": "code",
      "source": [
        "# 30-Day Simulation\n",
        "days = 30\n",
        "daily = []\n",
        "\n",
        "for _ in range(days):\n",
        "  w, _ = simulate_with_abandon(opt[0])\n",
        "  daily.append((w.mean()*60, np.percentile(w*60, 95)))\n",
        "      # mean wait time for the day (w.mean())\n",
        "\n",
        "df_days = pd.DataFrame(daily, columns=['Avg Wait (min)', '95th-pct Wait (min)'])\n",
        "df_days.describe()\n",
        "df_days.hist(bins=10)\n",
        "plt.suptitle('30 - Day Variability in Wait Time')\n",
        "plt.xlabel('Wait Time (minutes)')\n",
        "plt.ylabel('Frequency')\n",
        "plt.show()\n",
        "\n",
        "# Gives Daily average wait times and daily 95th percentile wait times."
      ],
      "metadata": {
        "colab": {
          "base_uri": "https://localhost:8080/",
          "height": 497
        },
        "id": "1-XcASSbHL1C",
        "outputId": "cdc5b6b4-178d-4fd0-b36e-43448975e035"
      },
      "execution_count": 10,
      "outputs": [
        {
          "output_type": "display_data",
          "data": {
            "text/plain": [
              "<Figure size 640x480 with 2 Axes>"
            ],
            "image/png": "[encoded data removed]"
          },
          "metadata": {}
        }
      ]
    },
    {
      "cell_type": "markdown",
      "source": [
        "**Conclusion:**\n",
        "\n",
        "Even when we use the best number of agents, the waiting times for customers can still change from day to day.\n",
        "\n",
        "**Interpretation:**\n",
        "\n",
        "*   **Avg Wait Time Graph:** This shows that the average wait time isn't the exact same every single day. It jumps around a little. Most of the days, the average wait might be low, but some days it could be higher.\n",
        "\n",
        "*   **95th Percentile Wait Time Graph:** This is about the worst waits. It shows how long the 95% slowest customer had to wait each day. This graph is important because it tells us that on some days, even with the right staffing, a small group of customers might end up waiting for longer than usual.\n",
        "\n",
        "\n",
        "---\n",
        "\n",
        "\n",
        "Staffing for the \"average\" day is good,\n",
        "but these graphs show that some days will be tougher than others, leading to longer waits for some customers. This highlights the natural ups and downs of running a call center."
      ],
      "metadata": {
        "id": "fK1VbtVGHkKw"
      }
    },
    {
      "cell_type": "markdown",
      "source": [
        "# **Conclusion:**\n",
        "\n",
        "*   We built a computer model that acts like a call center.\n",
        "*   We tested different numbers of agents.\n",
        "*   We found that hiring a certain number of agents (4 in this case) gives the best balance between keeping customer wait times down and not spending too much money on salaries.\n",
        "*   However, even with the best number of agents, daily call volumes and wait times can still change a bit from one day to the next.\n",
        "\n",
        "\n",
        "---\n",
        "\n",
        "*   Our model helps us see how small changes (like adding an agent or customers hanging up) impact how long people wait and how much it costs.\n",
        "*   Even though we found the best average number of agents, some days will be busier, and some customers might still wait a little longer than usual. This shows that real-world call centers naturally have some good days and some tougher days.\n",
        "\n",
        "\n",
        "\n",
        "---\n",
        "\n",
        "\n",
        "**Learning:**\n",
        "\n",
        "*   Balancing good customer service (short waits) with costs (salaries) is tricky, and simulation helps find the best trade-off.\n",
        "*   Real systems (like call centers) are complex and have variability, meaning things don't always go exactly as planned, even with good planning.\n",
        "*   Understanding not just the average performance but also the worst-case scenarios (like the 95th percentile wait time) is important for customer satisfaction."
      ],
      "metadata": {
        "id": "g5_eOe8zJTyb"
      }
    },
    {
      "cell_type": "code",
      "source": [],
      "metadata": {
        "id": "_k9ZWtwHJ84F"
      },
      "execution_count": null,
      "outputs": []
    }
  ]
}