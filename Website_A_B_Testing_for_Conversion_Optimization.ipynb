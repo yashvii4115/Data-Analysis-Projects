{
  "nbformat": 4,
  "nbformat_minor": 0,
  "metadata": {
    "colab": {
      "provenance": []
    },
    "kernelspec": {
      "name": "python3",
      "display_name": "Python 3"
    },
    "language_info": {
      "name": "python"
    }
  },
  "cells": [
    {
      "cell_type": "markdown",
      "source": [
        "# **Website A/B Testing for Conversion Optimization**"
      ],
      "metadata": {
        "id": "b0P9-qX9PTm7"
      }
    },
    {
      "cell_type": "code",
      "execution_count": null,
      "metadata": {
        "id": "S-QIQPOibRkc"
      },
      "outputs": [],
      "source": [
        "import pandas as pd\n",
        "import numpy as np\n",
        "import seaborn as sns\n",
        "from scipy import stats\n",
        "import matplotlib.pyplot as plt, time\n",
        "from statsmodels.stats.proportion import proportions_ztest"
      ]
    },
    {
      "cell_type": "code",
      "source": [
        "np.random.seed(42)"
      ],
      "metadata": {
        "id": "uoMPN6ijfntX"
      },
      "execution_count": null,
      "outputs": []
    },
    {
      "cell_type": "code",
      "source": [
        "#Assume 10,000 visitors each\n",
        "n_A, p_A = 10000, 0.10  # variant A: 10% true conversion\n",
        "n_B, p_B = 10000, 0.12  # variant B: 12% true conversion"
      ],
      "metadata": {
        "id": "GxHDEer9ftnQ"
      },
      "execution_count": null,
      "outputs": []
    },
    {
      "cell_type": "markdown",
      "source": [
        "Variant A: The original checkout page\n",
        "\n",
        "Variant B: The new version that we're testing\n",
        "\n",
        "Here, each version had 10,000 visitors.\n",
        "\n",
        "Version A has true conversion rate of 10%.\n",
        "Version B has true conversion rate of 12%"
      ],
      "metadata": {
        "id": "vIhUwwuKl2iC"
      }
    },
    {
      "cell_type": "code",
      "source": [
        "#Simulate number of purchases\n",
        "\n",
        "success_A = np.random.binomial(n_A, p_A)\n",
        "success_B = np.random.binomial(n_B, p_B)"
      ],
      "metadata": {
        "id": "0h4V0yzKfwb2"
      },
      "execution_count": null,
      "outputs": []
    },
    {
      "cell_type": "code",
      "source": [
        "# Calculate conversion rate\n",
        "def proportion_ci(success, n, alpha=0.05):\n",
        "  p_hat = success / n\n",
        "  z = stats.norm.ppf(1-alpha/2)\n",
        "  se = np.sqrt(p_hat*(1-p_hat)/n)\n",
        "  return p_hat, p_hat-z*se, p_hat+z*se\n",
        "  #lower = p_hat - z * se\n",
        "  #upper = p_hat + z * se"
      ],
      "metadata": {
        "id": "40Wk0nn6hpNE"
      },
      "execution_count": null,
      "outputs": []
    },
    {
      "cell_type": "code",
      "source": [
        "p_A_hat, ci_low_A, ci_high_A = proportion_ci(success_A, n_A)\n",
        "p_B_hat, ci_low_B, ci_high_B = proportion_ci(success_B, n_B)"
      ],
      "metadata": {
        "id": "LHAdqIRiiWxM"
      },
      "execution_count": null,
      "outputs": []
    },
    {
      "cell_type": "code",
      "source": [
        "results = pd.DataFrame({\n",
        "    \"Variant\": [\"A\", \"B\"],\n",
        "    \"Visitors\": [n_A, n_B],\n",
        "    \"Conversions\": [success_A, success_B],\n",
        "    \"Conversion Rate\": [p_A_hat, p_B_hat],\n",
        "    \"Lower CI\": [ci_low_A, ci_low_B],\n",
        "    \"Upper CI\": [ci_high_A, ci_high_B]\n",
        "})\n",
        "print(results)"
      ],
      "metadata": {
        "colab": {
          "base_uri": "https://localhost:8080/"
        },
        "id": "qJSShnXxjYzE",
        "outputId": "650a4d70-d622-44d7-f04a-8d28b4cf960c"
      },
      "execution_count": null,
      "outputs": [
        {
          "output_type": "stream",
          "name": "stdout",
          "text": [
            "  Variant  Visitors  Conversions  Conversion Rate  Lower CI  Upper CI\n",
            "0       A     10000          973           0.0973  0.091491  0.103109\n",
            "1       B     10000         1134           0.1134  0.107185  0.119615\n"
          ]
        }
      ]
    },
    {
      "cell_type": "markdown",
      "source": [
        "For Variant A, about 9.73% of the people purchased something and for Variant B, about 11.34% people purchased.\n",
        "\n",
        "We are 95% sure that the true conversion rate lies within the listed range for each version."
      ],
      "metadata": {
        "id": "VoA8e58QnLvo"
      }
    },
    {
      "cell_type": "code",
      "source": [
        "# Plot Conversion rates with error bars\n",
        "\n",
        "plt.figure(figsize=(6,4))\n",
        "plt.bar(\n",
        "    results[\"Variant\"],\n",
        "    results[\"Conversion Rate\"],\n",
        "    yerr = [\n",
        "        results[\"Conversion Rate\"] - results[\"Lower CI\"],\n",
        "        results[\"Upper CI\"] - results[\"Conversion Rate\"]],\n",
        "    capsize=5,\n",
        "    color = ['skyblue', 'salmon']\n",
        ")\n",
        "plt.ylabel(\"Conversion Rate\")\n",
        "plt.title(\"A/B Test: Conversion Rate with 95% CI\")\n",
        "plt.ylim(0, max(results['Upper CI']) + 0.02)\n",
        "plt.show()"
      ],
      "metadata": {
        "colab": {
          "base_uri": "https://localhost:8080/",
          "height": 391
        },
        "id": "UvY7sN5qkI--",
        "outputId": "36fcad9d-dcb3-44bc-ea05-a2551461b7b1"
      },
      "execution_count": null,
      "outputs": [
        {
          "output_type": "display_data",
          "data": {
            "text/plain": [
              "<Figure size 600x400 with 1 Axes>"
            ],
            "image/png": "[encoded data removed]"
          },
          "metadata": {}
        }
      ]
    },
    {
      "cell_type": "markdown",
      "source": [
        "Here, two bars: variant A and Variant B is shown. The Height of the bar gives observed conversion rate and the vertical line above(error bar) is the 95% confidence interval. The bar shows the average results and the error line shows the uncertainty.\n",
        "\n",
        "Also, if these bars don't overlap then it suggests that Variant B is significantly better than A."
      ],
      "metadata": {
        "id": "aN7P7bicnxRZ"
      }
    },
    {
      "cell_type": "markdown",
      "source": [
        "### **Two Proportion Test (Z-test)**"
      ],
      "metadata": {
        "id": "bxpgk5TZVUZ9"
      }
    },
    {
      "cell_type": "code",
      "source": [
        "#Test H0: p_B <= p_A vs H1: p_B > p_A\n",
        "count = np.array([success_B, success_A])\n",
        "#count: the number of purchase for each variant\n",
        "\n",
        "nobs = np.array([n_B, n_A])\n",
        "#nobs: the number of visitors for each variant\n",
        "\n",
        "z_test, p_value = proportions_ztest(count, nobs, alternative=\"larger\")\n",
        "print(f\"Z-test statistic: {z_test:.3f}\")\n",
        "print(f\"P-value: {p_value:.3f}\")\n",
        "\n",
        "if p_value < 0.05:\n",
        "  print(\"\\n Reject null hypothesis [H0]\")\n",
        "  print(\" Variant B has a significantly higher conversion rate.\")\n",
        "else:\n",
        "  print(\"\\nFail to reject null hypothesis [H0]\")\n",
        "  print(\" No significant lift from B over A\")"
      ],
      "metadata": {
        "id": "izVaLmaznfJL",
        "colab": {
          "base_uri": "https://localhost:8080/"
        },
        "outputId": "aadaf5da-3e0d-4986-aa4e-0caf585f3633"
      },
      "execution_count": null,
      "outputs": [
        {
          "output_type": "stream",
          "name": "stdout",
          "text": [
            "Z-test statistic: 3.708\n",
            "P-value: 0.000\n",
            "\n",
            " Reject null hypothesis [H0]\n",
            " Variant B has a significantly higher conversion rate.\n"
          ]
        }
      ]
    },
    {
      "cell_type": "markdown",
      "source": [
        "This test tells us that Variant B is better than Variant A.\n",
        "The result is very strong, that is we are confident that the new version (Variant B) leads to more purchases compared to the original version (Variant A)."
      ],
      "metadata": {
        "id": "xtAqdpPcptoe"
      }
    },
    {
      "cell_type": "markdown",
      "source": [
        "### **Real-Time Monitoring and Sequential testing**"
      ],
      "metadata": {
        "id": "a_0FVqBwdwc8"
      }
    },
    {
      "cell_type": "code",
      "source": [
        "# Simulate data arriving in small batches\n",
        "  # (eg. 100 visitors per variant per minute),\n",
        "  # update the cumulative conversions and totals,\n",
        "  # return the two-proportion z-test each time,\n",
        "  # and visualize how both the p-value and the observed lift evolve.\n",
        "\n",
        "from IPython.display import clear_output\n",
        "\n",
        "# Use the same true rates from above\n",
        "true_p_A, true_p_B = 0.10, 0.12\n",
        "batch_size = 100    #visitors per batch per variant\n",
        "n_batches = 60      #simulate 60 time steps (eg. minutes)\n",
        "\n",
        "# Initialize counters\n",
        "n_visits_A = n_visits_B = 0\n",
        "n_success_A = n_success_B = 0\n",
        "\n",
        "# Lists to store matrices for plotting\n",
        "batches = []\n",
        "p_values = []\n",
        "observed_lifts = []\n"
      ],
      "metadata": {
        "id": "M1bKQSF7WnRf"
      },
      "execution_count": null,
      "outputs": []
    },
    {
      "cell_type": "code",
      "source": [
        "for batch in range(1, n_batches+1):\n",
        "  # Simulate one batch of visitors\n",
        "  new_A = np.random.binomial(batch_size, true_p_A)\n",
        "  new_B = np.random.binomial(batch_size, true_p_B)\n",
        "\n",
        "  # Update totals\n",
        "  n_visits_A += batch_size\n",
        "  n_visits_B += batch_size\n",
        "  n_success_A += new_A\n",
        "  n_success_B += new_B\n",
        "\n",
        "  # Compute current conversion rates\n",
        "  cr_A = n_success_A / n_visits_A     # Total conversion rate for A\n",
        "  cr_B = n_success_B / n_visits_B     # Total conversion rate for B\n",
        "  lift = cr_B - cr_A      # How much better B is than A\n",
        "\n",
        "  # Two proportion z-test\n",
        "  count = np.array([n_success_B, n_success_A])\n",
        "  nobs = np.array([n_visits_B, n_visits_A])\n",
        "  z_test, p_value = proportions_ztest(count, nobs, alternative=\"larger\")\n",
        "# Test: Is Version B doing significantly better than A\n",
        "# z_test: How strong the difference is\n",
        "# p_value: How likely the difference is due to random choice\n",
        "\n",
        "  # Append to lists for plotting\n",
        "  batches.append(batch)\n",
        "  p_values.append(p_value)\n",
        "  observed_lifts.append(lift)\n",
        "\n",
        "  # Clear previous o/p and print current state\n",
        "  clear_output(wait=True)\n",
        "  print(f\"Batch {batch}/{n_batches}\")\n",
        "  print(f\"Variant A: {n_visits_A} visitors, {n_success_A} buys -> Conversions = {cr_A:.3%}\")\n",
        "  print(f\"Variant B: {n_visits_B} visitors, {n_success_B} buys -> Conversions = {cr_B:.3%}\")\n",
        "  print(f\"Observed Lift: {lift:.3%}\")\n",
        "  print(f\"Z-test = {z_test:.2f}, p-value = {p_value:.4f}\")\n",
        "\n",
        "  if p_value < 0.05:\n",
        "    print(\" Significant lift detected (p<0.05).\")\n",
        "  else:\n",
        "    print(\" No significant lift detected.\")"
      ],
      "metadata": {
        "colab": {
          "base_uri": "https://localhost:8080/"
        },
        "id": "cZKZBjKre4ep",
        "outputId": "d0a08e7c-b7de-46dd-fb41-af1a5eabf3d3"
      },
      "execution_count": null,
      "outputs": [
        {
          "output_type": "stream",
          "name": "stdout",
          "text": [
            "Batch 60/60\n",
            "Variant A: 6000 visitors, 574 buys -> Conversions = 9.567%\n",
            "Variant B: 6000 visitors, 714 buys -> Conversions = 11.900%\n",
            "Observed Lift: 2.333%\n",
            "Z-test = 4.13, p-value = 0.0000\n",
            " Significant lift detected (p<0.05).\n"
          ]
        }
      ]
    },
    {
      "cell_type": "markdown",
      "source": [
        "The new version (Variant B) is significantly better than the original version (Variant A).\n",
        "We observed that Variant B resulted in a higher number of people completing a purchase compared to Variant A.\n",
        "The statistical test confirmed this difference is not just random chance, but a real improvement.\n",
        "Therefore, we are confident that switching to the new version (Variant B) will lead to more sales."
      ],
      "metadata": {
        "id": "AdwvITxYsTLj"
      }
    },
    {
      "cell_type": "code",
      "source": [
        "# Plot p-value and lift over batches\n",
        "import time\n",
        "\n",
        "Fig, axes = plt.subplots(1, 2, figsize=(12, 4))\n",
        "axes[0].plot(batches, p_values, marker='o')\n",
        "axes[0].axhline(0.05, color='red', linestyle='--', label='a = 0.05')\n",
        "axes[0].set_xlabel('Batch Number')\n",
        "axes[0].set_ylabel('p-value')\n",
        "axes[0].set_title('Sequential p-value')\n",
        "axes[0].legend()\n",
        "\n",
        "axes[1].plot(batches, observed_lifts, '-o')\n",
        "axes[1].set_xlabel('Batch Number')\n",
        "axes[1].set_ylabel('Observed Lift')\n",
        "axes[1].set_title('Observed lift (CR_B - CR_A)')\n",
        "\n",
        "plt.tight_layout()\n",
        "plt.show()\n",
        "\n",
        "# Pause briefly to simulate real time\n",
        "time.sleep(0.9)"
      ],
      "metadata": {
        "colab": {
          "base_uri": "https://localhost:8080/",
          "height": 228
        },
        "id": "qAtnEqg0hxhF",
        "outputId": "cc2c1535-7ad6-432d-ca21-7d3d6fe3b0f1"
      },
      "execution_count": null,
      "outputs": [
        {
          "output_type": "display_data",
          "data": {
            "text/plain": [
              "<Figure size 1200x400 with 2 Axes>"
            ],
            "image/png": "[encoded data removed]"
          },
          "metadata": {}
        }
      ]
    },
    {
      "cell_type": "markdown",
      "source": [
        "### **Conclusion:**\n",
        "We conducted an A/B test comparing two webpage versions— Variant A and Variant B. Each variant had 10,000 simulated visitors, with true conversion rates of 10% for A and 12% for B.\n",
        "\n",
        "We generated purchase data based on these rates and calculated the observed conversion rates along with their 95% confidence intervals. These intervals show the range where the true conversion rates likely fall.\n",
        "\n",
        "We visualized the conversion rates with error bars. Non-overlapping intervals suggested a meaningful difference.\n",
        "\n",
        "To confirm this, we performed a two-proportion z-test, which showed that Variant B's higher conversion rate is statistically significant and not just random chance.\n",
        "\n",
        "Finally, We simulated data arriving in batches to see how the results would change over time as more data comes in. This helps in understanding a real-world scenario."
      ],
      "metadata": {
        "id": "18PA-g3Rs_Sd"
      }
    },
    {
      "cell_type": "markdown",
      "source": [
        "###**Learning:**\n",
        "\n",
        "~ The main conclusion that is drawn is that the new version (Variant B) led to a significantly higher conversion rate compared to the original version (Variant A).\n",
        "\n",
        "~ The z-test provided strong evidence that Variant B is genuinely better and not just random.\n",
        "\n",
        "~ Based on the strong results from this A/B test, Variant B should be implemented for all users on the live website instead of Variant A.\n",
        "\n"
      ],
      "metadata": {
        "id": "1yWaos85uYPY"
      }
    },
    {
      "cell_type": "code",
      "source": [],
      "metadata": {
        "id": "yNBGXSm9uWkQ"
      },
      "execution_count": null,
      "outputs": []
    }
  ]
}